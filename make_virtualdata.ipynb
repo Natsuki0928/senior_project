{
 "cells": [
  {
   "cell_type": "code",
   "execution_count": 65,
   "metadata": {},
   "outputs": [],
   "source": [
    "import math\n",
    "import pandas as pd\n",
    "import numpy as np\n",
    "import matplotlib.pyplot as plt\n",
    "%matplotlib inline\n",
    "import random\n",
    "random.seed(1)\n",
    "np.random.seed(1)"
   ]
  },
  {
   "cell_type": "code",
   "execution_count": 69,
   "metadata": {},
   "outputs": [],
   "source": [
    "N = 50 #人の数\n",
    "people = [i for i in range(N)] #人の集合\n",
    "infec_rate,mort_rate = {},{}\n",
    "x_y= np.random.rand(N, 2) * 100\n",
    "for i in people:\n",
    "    infec_rate[i] = random.randint(0,100)\n",
    "    mort_rate[i] = random.randint(0,100)\n",
    "#print(infec_rate)\n",
    "#print(mort_rate)"
   ]
  },
  {
   "cell_type": "code",
   "execution_count": 82,
   "metadata": {},
   "outputs": [
    {
     "name": "stdout",
     "output_type": "stream",
     "text": [
      "[[43.59949021  2.59262318]\n",
      " [54.96624779 43.53223926]\n",
      " [42.03678021 33.0334821 ]\n",
      " [20.4648634  61.92709664]\n",
      " [29.96546737 26.68272751]]\n",
      "{0: 2, 1: 2, 2: 3, 3: 1, 4: 2}\n"
     ]
    }
   ],
   "source": [
    "N_s = 5\n",
    "shelters = [i for i in range(N_s)] #施設の集合\n",
    "capacity = {}\n",
    "for i in shelters:\n",
    "    capacity[i] = random.randint(1,3)\n",
    "np.random.seed(2)\n",
    "locations= np.random.rand(N_s, 2) * 100\n",
    "print(locations)\n",
    "print(capacity)"
   ]
  },
  {
   "cell_type": "code",
   "execution_count": 91,
   "metadata": {},
   "outputs": [
    {
     "name": "stdout",
     "output_type": "stream",
     "text": [
      "[[38.55585318 49.57034758]\n",
      " [20.36333172 35.75793236]\n",
      " [62.5062868  62.74051623]\n",
      " [ 8.79097173 14.50700147]\n",
      " [ 3.60270423 30.85668906]]\n",
      "{0: 1, 1: 1, 2: 1, 3: 1, 4: 1}\n"
     ]
    }
   ],
   "source": [
    "#ホテル\n",
    "N_h = 5\n",
    "hotels = [i for i in range(N_s)] #施設の集合\n",
    "capacity_h = {}\n",
    "for i in hotels:\n",
    "    capacity[i] = 1\n",
    "np.random.seed(3)\n",
    "locations_h = np.random.rand(N_s, 2) * 60\n",
    "print(locations_h)\n",
    "print(capacity)"
   ]
  },
  {
   "cell_type": "code",
   "execution_count": 92,
   "metadata": {},
   "outputs": [
    {
     "data": {
      "image/png": "[encoded data removed]",
      "text/plain": [
       "<Figure size 288x288 with 1 Axes>"
      ]
     },
     "metadata": {
      "needs_background": "light"
     },
     "output_type": "display_data"
    }
   ],
   "source": [
    "plt.figure(figsize=(4, 4))\n",
    "plt.plot(x_y[:, 0], x_y[:, 1], 'o')\n",
    "plt.plot(locations[:,0],locations[:,1],\"ro\")\n",
    "plt.plot(locations_h[:,0],locations_h[:,1],\"yo\")\n",
    "plt.plot((110,0),(0,110))\n",
    "plt.show()"
   ]
  },
  {
   "cell_type": "code",
   "execution_count": 10,
   "metadata": {},
   "outputs": [],
   "source": [
    "x_y = np.array(x_y)\n",
    "x = x_y[:, 0]\n",
    "y = x_y[:, 1]\n",
    "di = np.sqrt((x[:, np.newaxis] - x[np.newaxis, :]) ** 2 +(y[:, np.newaxis] - y[np.newaxis, :]) ** 2)\n",
    "Route = {(i,j) for i in V for j in V}"
   ]
  },
  {
   "cell_type": "code",
   "execution_count": 11,
   "metadata": {},
   "outputs": [],
   "source": [
    "#Parameter\n",
    "c = {} #移動間のコスト\n",
    "for i in range(len(x_y)):\n",
    "    for j in range(len(x_y)):\n",
    "        c[i,j] = di[i,j]"
   ]
  },
  {
   "cell_type": "code",
   "execution_count": null,
   "metadata": {},
   "outputs": [],
   "source": []
  }
 ],
 "metadata": {
  "kernelspec": {
   "display_name": "Python 3",
   "language": "python",
   "name": "python3"
  },
  "language_info": {
   "codemirror_mode": {
    "name": "ipython",
    "version": 3
   },
   "file_extension": ".py",
   "mimetype": "text/x-python",
   "name": "python",
   "nbconvert_exporter": "python",
   "pygments_lexer": "ipython3",
   "version": "3.6.10"
  }
 },
 "nbformat": 4,
 "nbformat_minor": 4
}
