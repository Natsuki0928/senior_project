{
 "cells": [
  {
   "cell_type": "markdown",
   "metadata": {},
   "source": [
    "# gurobiによる制約最適化を行う"
   ]
  },
  {
   "cell_type": "code",
   "execution_count": 5,
   "metadata": {},
   "outputs": [],
   "source": [
    "import math\n",
    "import random\n",
    "import networkx\n",
    "import pandas as pd\n",
    "import numpy as np\n",
    "import matplotlib.pyplot as plt\n",
    "%matplotlib inline\n",
    "import networkx\n",
    "from gurobipy import *"
   ]
  },
  {
   "cell_type": "markdown",
   "metadata": {},
   "source": [
    "## 変数\n",
    "- $x_{ik}$ $x_{jl}$ : 人iが避難施設kに避難した場合に１　バイナリー変数\n",
    "\n",
    "- $D_{kl}$ : 避難施設kとlの間に定義される伝染危険率　近いと大きい\n",
    "\n",
    "- $W_{ij} $ : 人i,jでの伝染危険率\n",
    "    - 感染の差の自乗とmax(jの感染率 – iの感染率,0)・iの死亡率 + max(iの感染率 – jの感染率,0)・ jの死亡率 の重み付き和\n",
    "\n",
    "## 定数\n",
    "\n",
    "- max(jの感染率 – iの感染率,0)・iの死亡率 + max(iの感染率 – jの感染率,0)・ jの死亡率  \n",
    "\n",
    "- 感染率の差の自乗和\n",
    "\n",
    "## 目的関数\n",
    "-  min $W_{ij} + D_{kl} + x_{ik} + x_{jl}$\n",
    "\n",
    "\n",
    "## 制約\n",
    "- すべての人 iに対して，x[i,k]の施設kに対する合計 = 1   \n",
    "\n",
    "- 施設kに対してx[i]=kの人に対する合計が施設kの容量以下\n",
    "\n",
    "## 必要な集合\n",
    "- 人の集合 people\n",
    "- 人の感染率の集合 infec_rate\n",
    "- 人の死亡率の集合 mort_rate\n",
    "- 施設集合 shelters\n",
    "- 施設の位置情報 locations\n",
    "- 施設の容量 capacity"
   ]
  },
  {
   "cell_type": "code",
   "execution_count": 55,
   "metadata": {},
   "outputs": [],
   "source": [
    "random.seed(0)"
   ]
  },
  {
   "cell_type": "code",
   "execution_count": 56,
   "metadata": {},
   "outputs": [
    {
     "name": "stdout",
     "output_type": "stream",
     "text": [
      "{0: 0.49, 1: 0.53, 2: 0.33, 3: 0.62, 4: 1.0, 5: 0.61, 6: 0.74, 7: 0.64, 8: 0.36, 9: 0.96}\n",
      "{0: 0.97, 1: 0.05, 2: 0.65, 3: 0.51, 4: 0.38, 5: 0.45, 6: 0.27, 7: 0.17, 8: 0.17, 9: 0.12}\n"
     ]
    }
   ],
   "source": [
    "N = 10 #人の数\n",
    "people = [i for i in range(N)] #人の集合\n",
    "infec_rate,mort_rate = {},{}\n",
    "for i in people:\n",
    "    infec_rate[i] = random.randint(0,100)/100\n",
    "    mort_rate[i] = random.randint(0,100)/100\n",
    "print(infec_rate)\n",
    "print(mort_rate)"
   ]
  },
  {
   "cell_type": "code",
   "execution_count": 57,
   "metadata": {},
   "outputs": [
    {
     "name": "stdout",
     "output_type": "stream",
     "text": [
      "{0: array([43.59621865, 58.23605832]), 1: array([93.74454084, 82.3964464 ]), 2: array([21.77836202, 44.72717208]), 3: array([38.8275176 , 90.37562388]), 4: array([ 2.48258343, 96.86650974]), 5: array([86.01523857, 18.87588913]), 6: array([10.63862211, 73.17060018]), 7: array([25.50870529, 95.13083882]), 8: array([5.89369258, 5.02577638]), 9: array([90.84319575,  3.50343052])}\n",
      "{0: 4, 1: 2, 2: 4, 3: 5, 4: 4, 5: 1, 6: 2, 7: 0, 8: 5, 9: 0}\n"
     ]
    }
   ],
   "source": [
    "N_s = 5\n",
    "shelters = [i for i in range(N_s)] #施設の集合\n",
    "locations,capacity = {},{}\n",
    "for i in people:\n",
    "    locations[i] = np.random.rand(2) * 100\n",
    "    capacity[i] = random.randint(0,5)\n",
    "print(locations)\n",
    "print(capacity)"
   ]
  },
  {
   "cell_type": "code",
   "execution_count": 58,
   "metadata": {},
   "outputs": [],
   "source": [
    "model = Model()"
   ]
  },
  {
   "cell_type": "code",
   "execution_count": 87,
   "metadata": {},
   "outputs": [],
   "source": [
    "#人iが避難施設kに避難した場合に1になる0-1変数 x[i,k] x[j,l]\n",
    "x = {}\n",
    "for i in people:\n",
    "    for k in shelters:\n",
    "        x[i,k] = model.addVar(ub=1, vtype=\"B\", name=\"x(%s,%s)\"%(i,k))\n",
    "        \n",
    "for j in people:\n",
    "    for l in shelters:\n",
    "        x[j,l] = model.addVar(ub=1, vtype=\"B\", name=\"x(%s,%s)\"%(j,l))\n",
    "        \n",
    "model.update()"
   ]
  },
  {
   "cell_type": "code",
   "execution_count": 88,
   "metadata": {},
   "outputs": [],
   "source": [
    "# D[k,l]\n",
    "D = {}\n",
    "for k in shelters:\n",
    "    for l in shelters:\n",
    "        D[k,l] = model.addVar(ub=1,lb=0, vtype = 'C', name=\"D(%s,%s)\"%(k,l))\n",
    "model.update()\n",
    "## 変数じゃなくて定数じゃね\n"
   ]
  },
  {
   "cell_type": "code",
   "execution_count": 89,
   "metadata": {},
   "outputs": [],
   "source": [
    "# W[i,j]\n",
    "W = {}\n",
    "for i in people:\n",
    "    for j in people:\n",
    "        w1 = max(infec_rate[j] - infec_rate[i],0) * mort_rate[i] + max(infec_rate[i] - infec_rate[j],0) * mort_rate[j]\n",
    "        w2 = (infec_rate[j] - infec_rate[i]) ** 2\n",
    "        W[i,j] = model.addVar(ub=1,lb=0, vtype = 'C', name=\"W(%s,%s)\"%(i,j))\n",
    "        W[i,j]*w1*w2\n",
    "model.update()"
   ]
  },
  {
   "cell_type": "markdown",
   "metadata": {},
   "source": [
    "## 制約"
   ]
  },
  {
   "cell_type": "code",
   "execution_count": 94,
   "metadata": {},
   "outputs": [],
   "source": [
    "# すべての人 iに対して，x[i,k]の施設kに対する合計 = 1   \n",
    "for i in people:\n",
    "    model.addConstr(quicksum(x[i,k] for k in shelters)== 1)\n",
    "    \n",
    "#すべての施設kに対して，x[i,k] の人に対する合計が施設kの容量以下\n",
    "for k in shelters:\n",
    "    model.addConstr(quicksum(x[i,k] for i in people) <= capacity[k])\n",
    "model.update()"
   ]
  },
  {
   "cell_type": "code",
   "execution_count": 92,
   "metadata": {},
   "outputs": [
    {
     "name": "stdout",
     "output_type": "stream",
     "text": [
      "0\n",
      "1\n",
      "2\n",
      "3\n",
      "4\n"
     ]
    }
   ],
   "source": []
  },
  {
   "cell_type": "code",
   "execution_count": 98,
   "metadata": {},
   "outputs": [
    {
     "ename": "GurobiError",
     "evalue": "Invalid argument to QuadExpr multiplication",
     "output_type": "error",
     "traceback": [
      "\u001b[0;31m---------------------------------------------------------------------------\u001b[0m",
      "\u001b[0;31mGurobiError\u001b[0m                               Traceback (most recent call last)",
      "\u001b[0;32m<ipython-input-98-dc1d027b0604>\u001b[0m in \u001b[0;36m<module>\u001b[0;34m\u001b[0m\n\u001b[1;32m      1\u001b[0m \u001b[0;31m#目的関数\u001b[0m\u001b[0;34m\u001b[0m\u001b[0;34m\u001b[0m\u001b[0;34m\u001b[0m\u001b[0m\n\u001b[1;32m      2\u001b[0m model.setObjective(quicksum(W[i,j]*D[k,l]*x[i,k]*x[j,l]\n\u001b[0;32m----> 3\u001b[0;31m                             \u001b[0;32mfor\u001b[0m \u001b[0mi\u001b[0m \u001b[0;32min\u001b[0m \u001b[0mpeople\u001b[0m\u001b[0;34m\u001b[0m\u001b[0;34m\u001b[0m\u001b[0m\n\u001b[0m\u001b[1;32m      4\u001b[0m                             \u001b[0;32mfor\u001b[0m \u001b[0mj\u001b[0m \u001b[0;32min\u001b[0m \u001b[0mpeople\u001b[0m\u001b[0;34m\u001b[0m\u001b[0;34m\u001b[0m\u001b[0m\n\u001b[1;32m      5\u001b[0m                             \u001b[0;32mfor\u001b[0m \u001b[0mk\u001b[0m \u001b[0;32min\u001b[0m \u001b[0mshelters\u001b[0m\u001b[0;34m\u001b[0m\u001b[0;34m\u001b[0m\u001b[0m\n",
      "\u001b[0;32mgurobi.pxi\u001b[0m in \u001b[0;36mgurobipy.quicksum\u001b[0;34m()\u001b[0m\n",
      "\u001b[0;32m<ipython-input-98-dc1d027b0604>\u001b[0m in \u001b[0;36m<genexpr>\u001b[0;34m(.0)\u001b[0m\n\u001b[1;32m      5\u001b[0m                             \u001b[0;32mfor\u001b[0m \u001b[0mk\u001b[0m \u001b[0;32min\u001b[0m \u001b[0mshelters\u001b[0m\u001b[0;34m\u001b[0m\u001b[0;34m\u001b[0m\u001b[0m\n\u001b[1;32m      6\u001b[0m                             \u001b[0;32mfor\u001b[0m \u001b[0ml\u001b[0m \u001b[0;32min\u001b[0m \u001b[0mshelters\u001b[0m\u001b[0;34m\u001b[0m\u001b[0;34m\u001b[0m\u001b[0m\n\u001b[0;32m----> 7\u001b[0;31m                             if j>i), GRB.MINIMIZE)\n\u001b[0m\u001b[1;32m      8\u001b[0m \u001b[0;34m\u001b[0m\u001b[0m\n\u001b[1;32m      9\u001b[0m \u001b[0mmodel\u001b[0m\u001b[0;34m.\u001b[0m\u001b[0mupdate\u001b[0m\u001b[0;34m(\u001b[0m\u001b[0;34m)\u001b[0m\u001b[0;34m\u001b[0m\u001b[0;34m\u001b[0m\u001b[0m\n",
      "\u001b[0;32mquadexpr.pxi\u001b[0m in \u001b[0;36mgurobipy.QuadExpr.__mul__\u001b[0;34m()\u001b[0m\n",
      "\u001b[0;32mquadexpr.pxi\u001b[0m in \u001b[0;36mgurobipy.QuadExpr._mul\u001b[0;34m()\u001b[0m\n",
      "\u001b[0;31mGurobiError\u001b[0m: Invalid argument to QuadExpr multiplication"
     ]
    }
   ],
   "source": [
    "#目的関数\n",
    "model.setObjective(quicksum(W[i,j]*D[k,l]*x[i,k]*x[j,l]\n",
    "                            for i in people\n",
    "                            for j in people\n",
    "                            for k in shelters\n",
    "                            for l in shelters\n",
    "                            if j>i), GRB.MINIMIZE)\n",
    "\n",
    "model.update()"
   ]
  },
  {
   "cell_type": "code",
   "execution_count": null,
   "metadata": {},
   "outputs": [],
   "source": []
  }
 ],
 "metadata": {
  "kernelspec": {
   "display_name": "Python 3",
   "language": "python",
   "name": "python3"
  },
  "language_info": {
   "codemirror_mode": {
    "name": "ipython",
    "version": 3
   },
   "file_extension": ".py",
   "mimetype": "text/x-python",
   "name": "python",
   "nbconvert_exporter": "python",
   "pygments_lexer": "ipython3",
   "version": "3.6.10"
  }
 },
 "nbformat": 4,
 "nbformat_minor": 4
}
