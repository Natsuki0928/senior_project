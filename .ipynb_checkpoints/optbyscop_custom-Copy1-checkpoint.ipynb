{
 "cells": [
  {
   "cell_type": "code",
   "execution_count": 44,
   "metadata": {},
   "outputs": [],
   "source": [
    "import math\n",
    "import pandas as pd\n",
    "import numpy as np\n",
    "import matplotlib.pyplot as plt\n",
    "%matplotlib inline\n",
    "import random\n",
    "random.seed(1)\n",
    "np.random.seed(2)"
   ]
  },
  {
   "cell_type": "code",
   "execution_count": 45,
   "metadata": {},
   "outputs": [
    {
     "name": "stdout",
     "output_type": "stream",
     "text": [
      "{0: 18, 1: 8, 2: 15, 3: 15, 4: 12, 5: 3, 6: 0, 7: 13, 8: 24, 9: 22, 10: 8, 11: 18, 12: 28, 13: 0, 14: 0, 15: 17, 16: 30, 17: 21, 18: 13, 19: 16, 20: 24, 21: 30, 22: 17, 23: 11, 24: 21, 25: 24, 26: 30, 27: 29, 28: 13, 29: 29, 30: 3, 31: 20, 32: 3, 33: 28, 34: 29, 35: 16, 36: 9, 37: 18, 38: 27, 39: 12, 40: 81, 41: 87, 42: 93, 43: 91, 44: 91, 45: 94, 46: 83, 47: 96, 48: 91, 49: 80}\n"
     ]
    }
   ],
   "source": [
    "N = 50 #人の数\n",
    "people = [i for i in range(N)] #人の集合\n",
    "infec_rate,mort_rate = {},{}\n",
    "x_y= np.random.rand(N, 2) * 100\n",
    "for i in people:\n",
    "    if i < N-10:\n",
    "        infec_rate[i] = random.randint(80,100)\n",
    "        mort_rate[i] = random.randint(0,30)\n",
    "    else:\n",
    "        infec_rate[i] = random.randint(80,100)\n",
    "        mort_rate[i] = random.randint(80,100)\n",
    "#print(infec_rate)\n",
    "print(mort_rate)"
   ]
  },
  {
   "cell_type": "code",
   "execution_count": 46,
   "metadata": {},
   "outputs": [
    {
     "name": "stdout",
     "output_type": "stream",
     "text": [
      "52\n",
      "{1: 10, 2: 13, 3: 14, 4: 10, 5: 1, 6: 1, 7: 1, 8: 1, 9: 1}\n"
     ]
    }
   ],
   "source": [
    "#避難所\n",
    "N_s = 5\n",
    "#ホテル\n",
    "N_h = 5\n",
    "\n",
    "N_sh = N_h + N_s \n",
    "shelters = [i for i in range(1,N_sh)] #施設の集合\n",
    "capacity = {}\n",
    "#後半はホテルのキャパ\n",
    "np.random.seed(1)\n",
    "for i in shelters:\n",
    "    if i < N_s:\n",
    "        capacity[i] = np.random.randint(5,15)\n",
    "    else:\n",
    "        capacity[i] = 1\n",
    "    \n",
    "locations= np.random.rand(N_sh, 2) * 100\n",
    "#print(locations)\n",
    "print(sum(capacity.values()))\n",
    "print(capacity)"
   ]
  },
  {
   "cell_type": "code",
   "execution_count": 47,
   "metadata": {},
   "outputs": [
    {
     "data": {
      "image/png": "[encoded data removed]",
      "text/plain": [
       "<Figure size 288x288 with 1 Axes>"
      ]
     },
     "metadata": {
      "needs_background": "light"
     },
     "output_type": "display_data"
    }
   ],
   "source": [
    "plt.figure(figsize=(4, 4))\n",
    "plt.plot(x_y[:, 0], x_y[:, 1], 'o')\n",
    "plt.plot(locations[0:N_s,0],locations[0:N_s,1],\"ro\")\n",
    "plt.plot(locations[N_s+1:,0],locations[N_s+1:,1],\"yo\")\n",
    "#plt.plot((110,0),(0,110))\n",
    "plt.show()"
   ]
  },
  {
   "cell_type": "code",
   "execution_count": 48,
   "metadata": {},
   "outputs": [],
   "source": [
    "x = x_y[:, 0]\n",
    "y = x_y[:, 1]\n",
    "loc_x = locations[:, 0]\n",
    "loc_y = locations[:, 1]\n",
    "#loch_x = locations_h[:, 0]\n",
    "#loch_y = locations_h[:, 1]"
   ]
  },
  {
   "cell_type": "code",
   "execution_count": 51,
   "metadata": {},
   "outputs": [],
   "source": [
    "#避難所と住民の距離\n",
    "di = np.sqrt((x[:, np.newaxis] - loc_x[np.newaxis, :]) ** 2 +(y[:, np.newaxis] - loc_y[np.newaxis, :]) ** 2 )\n",
    "di = di.astype(np.int64)\n",
    "a = np.zeros((N,1),dtype=np.int64)\n",
    "di = np.concatenate([a,di],axis=1)\n"
   ]
  },
  {
   "cell_type": "markdown",
   "metadata": {},
   "source": [
    "## SCOPで最適化"
   ]
  },
  {
   "cell_type": "code",
   "execution_count": 52,
   "metadata": {},
   "outputs": [],
   "source": [
    "from scop import *"
   ]
  },
  {
   "cell_type": "code",
   "execution_count": 53,
   "metadata": {},
   "outputs": [],
   "source": [
    "m = Model()"
   ]
  },
  {
   "cell_type": "code",
   "execution_count": 54,
   "metadata": {},
   "outputs": [
    {
     "data": {
      "text/plain": [
       "array([[  0,  29,  40,  51,  65,  88,  76,  53,  34, 101,  67],\n",
       "       [  0,  52,  37,  18,  28,  56,  57,  18,  47,  58,  34],\n",
       "       [  0,  36,  23,  20,  35,  58,  51,  22,  30,  74,  37],\n",
       "       [  0,  53,  27,  20,  22,  25,  18,  22,  42,  69,  13],\n",
       "       [  0,  23,  13,  28,  43,  61,  48,  31,  17,  86,  42],\n",
       "       [  0,  64,  47,  22,  25,  54,  61,  20,  58,  47,  34],\n",
       "       [  0,  42,  17,  26,  33,  37,  19,  28,  31,  80,  25],\n",
       "       [  0,  69,  43,  32,  25,   9,  19,  32,  58,  64,  15],\n",
       "       [  0,  81,  68,  45,  47,  75,  84,  44,  77,  47,  57],\n",
       "       [  0,  69,  71,  64,  74, 102, 101,  64,  71,  88,  81],\n",
       "       [  0,  35,  42,  48,  62,  86,  77,  50,  38,  95,  65],\n",
       "       [  0,  28,  34,  44,  58,  81,  69,  46,  30,  94,  60],\n",
       "       [  0,  50,  25,  27,  30,  29,  12,  29,  39,  76,  20],\n",
       "       [  0,   8,  24,  46,  60,  77,  59,  49,  12, 103,  59],\n",
       "       [  0,  26,   3,  25,  38,  52,  37,  28,  17,  84,  35],\n",
       "       [  0,  33,  31,  34,  48,  72,  64,  36,  32,  83,  51],\n",
       "       [  0,  62,  47,  24,  29,  58,  64,  23,  57,  51,  38],\n",
       "       [  0,  46,  32,  18,  31,  57,  55,  19,  41,  65,  36],\n",
       "       [  0,  81,  65,  39,  38,  66,  77,  37,  75,  38,  49],\n",
       "       [  0,  60,  35,  28,  25,  18,  13,  29,  50,  69,  15],\n",
       "       [  0,  91,  79,  56,  57,  84,  95,  55,  87,  49,  67],\n",
       "       [  0,  78,  70,  53,  58,  87,  92,  51,  76,  63,  67],\n",
       "       [  0,  53,  38,  20,  29,  57,  59,  19,  48,  58,  36],\n",
       "       [  0,  74,  49,  24,   9,  25,  42,  21,  64,  41,  14],\n",
       "       [  0,  94,  70,  43,  29,  33,  58,  41,  85,  26,  34],\n",
       "       [  0,  39,  44,  47,  61,  86,  78,  49,  42,  92,  65],\n",
       "       [  0,  78,  53,  31,  17,  16,  38,  29,  69,  44,  16],\n",
       "       [  0,  26,  38,  51,  65,  87,  74,  53,  31, 102,  67],\n",
       "       [  0,  10,  28,  49,  64,  81,  64,  52,  16, 105,  62],\n",
       "       [  0, 122, 102,  73,  64,  79, 101,  70, 115,  19,  73],\n",
       "       [  0,  82,  66,  40,  39,  65,  77,  38,  77,  36,  49],\n",
       "       [  0,  62,  60,  52,  62,  90,  89,  52,  62,  79,  69],\n",
       "       [  0,  45,  20,  10,  20,  36,  30,  12,  35,  67,  16],\n",
       "       [  0,  21,  34,  49,  64,  84,  70,  51,  26, 102,  64],\n",
       "       [  0,  90,  80,  59,  61,  89,  98,  57,  87,  55,  71],\n",
       "       [  0,  42,  31,  24,  37,  63,  58,  25,  38,  70,  41],\n",
       "       [  0,  31,   8,  20,  33,  49,  36,  23,  22,  79,  31],\n",
       "       [  0,  94,  75,  47,  41,  64,  80,  45,  87,  23,  52],\n",
       "       [  0,  24,  38,  52,  67,  88,  74,  54,  30, 104,  68],\n",
       "       [  0,  67,  61,  48,  56,  84,  86,  47,  66,  69,  64],\n",
       "       [  0,  44,  50,  54,  67,  93,  85,  55,  47,  96,  71],\n",
       "       [  0,  59,  47,  30,  38,  67,  69,  29,  55,  59,  46],\n",
       "       [  0,  47,  31,  15,  28,  54,  53,  16,  41,  63,  33],\n",
       "       [  0,  50,  26,   4,  15,  35,  34,   6,  41,  61,  14],\n",
       "       [  0,  82,  82,  71,  79, 108, 109,  71,  83,  87,  87],\n",
       "       [  0,  17,  32,  50,  65,  84,  69,  52,  23, 104,  65],\n",
       "       [  0,  81,  63,  36,  32,  57,  71,  33,  75,  31,  42],\n",
       "       [  0,  33,   7,  21,  33,  46,  31,  24,  23,  80,  29],\n",
       "       [  0,  75,  55,  27,  22,  48,  61,  24,  68,  34,  33],\n",
       "       [  0,  78,  53,  41,  31,   3,  25,  40,  68,  63,  23]])"
      ]
     },
     "execution_count": 54,
     "metadata": {},
     "output_type": "execute_result"
    }
   ],
   "source": [
    "#距離のコスト C\n",
    "#添字0は自宅に留まる選択肢\n",
    "C = di\n",
    "C"
   ]
  },
  {
   "cell_type": "code",
   "execution_count": 55,
   "metadata": {},
   "outputs": [
    {
     "data": {
      "text/plain": [
       "array([[0, 0, 0, 0, 0, 0, 0, 0, 0, 0],\n",
       "       [0, 1, 0, 0, 0, 0, 0, 0, 0, 0],\n",
       "       [0, 0, 1, 0, 0, 0, 0, 0, 0, 0],\n",
       "       [0, 0, 0, 1, 0, 0, 0, 0, 0, 0],\n",
       "       [0, 0, 0, 0, 1, 0, 0, 0, 0, 0],\n",
       "       [0, 0, 0, 0, 0, 1, 0, 0, 0, 0],\n",
       "       [0, 0, 0, 0, 0, 0, 1, 0, 0, 0],\n",
       "       [0, 0, 0, 0, 0, 0, 0, 1, 0, 0],\n",
       "       [0, 0, 0, 0, 0, 0, 0, 0, 1, 0],\n",
       "       [0, 0, 0, 0, 0, 0, 0, 0, 0, 1]])"
      ]
     },
     "execution_count": 55,
     "metadata": {},
     "output_type": "execute_result"
    }
   ],
   "source": [
    "#D[k,l]\n",
    "D = np.zeros((N_sh,N_sh),dtype=np.int64)\n",
    "for i in shelters:\n",
    "    for j in shelters:\n",
    "        if i == j:\n",
    "            D[i,j] = 1\n",
    "        else:\n",
    "            D[i,j] = 0\n",
    "D"
   ]
  },
  {
   "cell_type": "code",
   "execution_count": 56,
   "metadata": {},
   "outputs": [
    {
     "data": {
      "text/plain": [
       "array([[  0,   0,   0, ...,   0,  92, 239],\n",
       "       [  0,   0,   0, ...,   2,  80, 175],\n",
       "       [  0,   0,   0, ...,   1, 109, 259],\n",
       "       ...,\n",
       "       [  0,   2,   1, ...,   0, 329, 960],\n",
       "       [ 92,  80, 109, ..., 329,   0,  24],\n",
       "       [239, 175, 259, ..., 960,  24,   0]])"
      ]
     },
     "execution_count": 56,
     "metadata": {},
     "output_type": "execute_result"
    }
   ],
   "source": [
    "#W[i,j]\n",
    "W = np.zeros((N,N),dtype=np.int64)\n",
    "for i in people:\n",
    "    for j in people:\n",
    "        w1 = max(infec_rate[j] - infec_rate[i],0) * mort_rate[i] + max(infec_rate[i] - infec_rate[j],0) * mort_rate[j]\n",
    "        w2 = (infec_rate[j] - infec_rate[i]) ** 2\n",
    "        W[i,j] = w1*w2/100\n",
    "W"
   ]
  },
  {
   "cell_type": "markdown",
   "metadata": {},
   "source": [
    "### 人iを変数x[i]として、施設kの集合をドメインとする"
   ]
  },
  {
   "cell_type": "code",
   "execution_count": 57,
   "metadata": {},
   "outputs": [],
   "source": [
    "x={}\n",
    "for i in people:\n",
    "    x[i] = m.addVariable(name = 'x[%s]'%i ,domain = shelters)"
   ]
  },
  {
   "cell_type": "markdown",
   "metadata": {},
   "source": [
    "### 目的関数(二次制約クラスQuadratic)\n",
    "#### W[i,j] D[k,l] (X[i]=k) (X[j]=l)の合計の最小化"
   ]
  },
  {
   "cell_type": "code",
   "execution_count": 58,
   "metadata": {},
   "outputs": [],
   "source": [
    "obj = Quadratic('obj',weight = 1 ,\n",
    "                rhs = 0, direction = '<=')\n",
    "for i in people:\n",
    "    for j in people:\n",
    "        if i != j:\n",
    "            for k in shelters:\n",
    "                for l in shelters:\n",
    "                    obj.addTerms(C[i,k]*W[i,j]*D[k,l],x[i],k,x[j],l)\n",
    "m.addConstraint(obj)"
   ]
  },
  {
   "cell_type": "markdown",
   "metadata": {},
   "source": [
    "### 　制約\n",
    "#### 各避難所に割り振られる人数は、避難所の要領以下\n"
   ]
  },
  {
   "cell_type": "code",
   "execution_count": 59,
   "metadata": {},
   "outputs": [
    {
     "data": {
      "text/plain": [
       "{1: <scop.Linear at 0x7fa7019a0828>,\n",
       " 2: <scop.Linear at 0x7fa7045967b8>,\n",
       " 3: <scop.Linear at 0x7fa70454d358>,\n",
       " 4: <scop.Linear at 0x7fa70454deb8>,\n",
       " 5: <scop.Linear at 0x7fa703cc4a58>,\n",
       " 6: <scop.Linear at 0x7fa703cc55f8>,\n",
       " 7: <scop.Linear at 0x7fa703cc6198>,\n",
       " 8: <scop.Linear at 0x7fa703cc6cf8>,\n",
       " 9: <scop.Linear at 0x7fa703cc7898>}"
      ]
     },
     "execution_count": 59,
     "metadata": {},
     "output_type": "execute_result"
    }
   ],
   "source": [
    "UB = {}\n",
    "for k in shelters:\n",
    "    UB[k] = Linear(\"UB{%s}\"%(i),\n",
    "                   weight = 'inf',\n",
    "                   rhs= capacity[k],\n",
    "                   direction = '<=')\n",
    "    for i in people:\n",
    "        UB[k].addTerms(1,x[i],k)\n",
    "    m.addConstraint(UB[k])\n",
    "UB\n",
    "#print(m)"
   ]
  },
  {
   "cell_type": "code",
   "execution_count": 60,
   "metadata": {},
   "outputs": [],
   "source": [
    "#print(m)"
   ]
  },
  {
   "cell_type": "code",
   "execution_count": 61,
   "metadata": {},
   "outputs": [
    {
     "name": "stdout",
     "output_type": "stream",
     "text": [
      "\n",
      " ================ Now solving the problem ================ \n",
      "\n",
      "solution\n",
      "x[0] 2\n",
      "x[1] 1\n",
      "x[2] 2\n",
      "x[3] 3\n",
      "x[4] 3\n",
      "x[5] 2\n",
      "x[6] 3\n",
      "x[7] 3\n",
      "x[8] 3\n",
      "x[9] 2\n",
      "x[10] 3\n",
      "x[11] 1\n",
      "x[12] 2\n",
      "x[13] 4\n",
      "x[14] 3\n",
      "x[15] 4\n",
      "x[16] 8\n",
      "x[17] 1\n",
      "x[18] 7\n",
      "x[19] 1\n",
      "x[20] 2\n",
      "x[21] 4\n",
      "x[22] 3\n",
      "x[23] 2\n",
      "x[24] 9\n",
      "x[25] 1\n",
      "x[26] 4\n",
      "x[27] 1\n",
      "x[28] 2\n",
      "x[29] 4\n",
      "x[30] 4\n",
      "x[31] 2\n",
      "x[32] 3\n",
      "x[33] 5\n",
      "x[34] 3\n",
      "x[35] 3\n",
      "x[36] 2\n",
      "x[37] 2\n",
      "x[38] 3\n",
      "x[39] 4\n",
      "x[40] 4\n",
      "x[41] 4\n",
      "x[42] 6\n",
      "x[43] 1\n",
      "x[44] 3\n",
      "x[45] 2\n",
      "x[46] 4\n",
      "x[47] 2\n",
      "x[48] 1\n",
      "x[49] 3\n",
      "violated constraint(s)\n",
      "obj 489771\n"
     ]
    }
   ],
   "source": [
    "m.Params.TimeLimit=1\n",
    "sol,violated=m.optimize()\n",
    "\n",
    "#print (m)\n",
    "\n",
    "print (\"solution\")\n",
    "for x in sol:\n",
    "    print (x,sol[x])\n",
    "print (\"violated constraint(s)\")\n",
    "for v in violated:\n",
    "    print (v,violated[v])"
   ]
  },
  {
   "cell_type": "code",
   "execution_count": 62,
   "metadata": {},
   "outputs": [
    {
     "data": {
      "text/plain": [
       "[1, 2, 3, 4, 5, 6, 7, 8, 9]"
      ]
     },
     "execution_count": 62,
     "metadata": {},
     "output_type": "execute_result"
    }
   ],
   "source": [
    "L = [i for i in shelters]\n",
    "L\n",
    "#for x in sol:\n",
    "#    print (x,sol[x])\n",
    "#    \"sol[{%s}]\"%x.append()"
   ]
  },
  {
   "cell_type": "code",
   "execution_count": null,
   "metadata": {},
   "outputs": [],
   "source": []
  },
  {
   "cell_type": "code",
   "execution_count": null,
   "metadata": {},
   "outputs": [],
   "source": []
  }
 ],
 "metadata": {
  "kernelspec": {
   "display_name": "Python 3",
   "language": "python",
   "name": "python3"
  },
  "language_info": {
   "codemirror_mode": {
    "name": "ipython",
    "version": 3
   },
   "file_extension": ".py",
   "mimetype": "text/x-python",
   "name": "python",
   "nbconvert_exporter": "python",
   "pygments_lexer": "ipython3",
   "version": "3.6.10"
  }
 },
 "nbformat": 4,
 "nbformat_minor": 4
}
