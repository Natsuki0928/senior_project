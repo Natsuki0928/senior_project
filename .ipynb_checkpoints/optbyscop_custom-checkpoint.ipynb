{
 "cells": [
  {
   "cell_type": "code",
   "execution_count": 211,
   "metadata": {},
   "outputs": [],
   "source": [
    "import math\n",
    "import pandas as pd\n",
    "import numpy as np\n",
    "import matplotlib.pyplot as plt\n",
    "%matplotlib inline\n",
    "import random\n",
    "random.seed(1)\n",
    "np.random.seed(1)"
   ]
  },
  {
   "cell_type": "code",
   "execution_count": 212,
   "metadata": {},
   "outputs": [
    {
     "name": "stdout",
     "output_type": "stream",
     "text": [
      "{0: 18, 1: 8, 2: 15, 3: 15, 4: 12, 5: 3, 6: 0, 7: 13, 8: 24, 9: 22, 10: 8, 11: 18, 12: 28, 13: 0, 14: 0, 15: 17, 16: 30, 17: 21, 18: 13, 19: 16, 20: 24, 21: 30, 22: 17, 23: 11, 24: 21, 25: 24, 26: 30, 27: 29, 28: 13, 29: 29, 30: 3, 31: 20, 32: 3, 33: 28, 34: 29, 35: 16, 36: 9, 37: 18, 38: 27, 39: 12, 40: 81, 41: 87, 42: 93, 43: 91, 44: 91, 45: 94, 46: 83, 47: 96, 48: 91, 49: 80}\n"
     ]
    }
   ],
   "source": [
    "N = 50 #人の数\n",
    "people = [i for i in range(N)] #人の集合\n",
    "infec_rate,mort_rate = {},{}\n",
    "x_y= np.random.rand(N, 2) * 100\n",
    "for i in people:\n",
    "    if i < N-10:\n",
    "        infec_rate[i] = random.randint(80,100)\n",
    "        mort_rate[i] = random.randint(0,30)\n",
    "    else:\n",
    "        infec_rate[i] = random.randint(80,100)\n",
    "        mort_rate[i] = random.randint(80,100)\n",
    "#print(infec_rate)\n",
    "print(mort_rate)"
   ]
  },
  {
   "cell_type": "code",
   "execution_count": 213,
   "metadata": {},
   "outputs": [
    {
     "name": "stdout",
     "output_type": "stream",
     "text": [
      "51\n",
      "{1: 10, 2: 13, 3: 14, 4: 10, 5: 1, 6: 1, 7: 1, 8: 1}\n"
     ]
    }
   ],
   "source": [
    "#避難所\n",
    "N_s = 5\n",
    "#ホテル\n",
    "N_h = 5\n",
    "\n",
    "N_sh = N_h + N_s \n",
    "shelters = [i for i in range(1,N_sh-1)] #施設の集合\n",
    "capacity = {}\n",
    "#後半はホテルのキャパ\n",
    "np.random.seed(1)\n",
    "for i in shelters:\n",
    "    if i < N_s:\n",
    "        capacity[i] = np.random.randint(5,15)\n",
    "    else:\n",
    "        capacity[i] = 1\n",
    "    \n",
    "locations= np.random.rand(N_sh, 2) * 100\n",
    "#print(locations)\n",
    "print(sum(capacity.values()))\n",
    "print(capacity)"
   ]
  },
  {
   "cell_type": "code",
   "execution_count": 214,
   "metadata": {},
   "outputs": [
    {
     "data": {
      "image/png": "[encoded data removed]",
      "text/plain": [
       "<Figure size 288x288 with 1 Axes>"
      ]
     },
     "metadata": {
      "needs_background": "light"
     },
     "output_type": "display_data"
    }
   ],
   "source": [
    "plt.figure(figsize=(4, 4))\n",
    "plt.plot(x_y[:, 0], x_y[:, 1], 'o')\n",
    "plt.plot(locations[0:N_s,0],locations[0:N_s,1],\"ro\")\n",
    "plt.plot(locations[N_s+1:,0],locations[N_s+1:,1],\"yo\")\n",
    "#plt.plot((110,0),(0,110))\n",
    "plt.show()"
   ]
  },
  {
   "cell_type": "code",
   "execution_count": 218,
   "metadata": {},
   "outputs": [],
   "source": [
    "x = x_y[:, 0]\n",
    "y = x_y[:, 1]\n",
    "loc_x = locations[:, 0]\n",
    "loc_y = locations[:, 1]\n",
    "#loch_x = locations_h[:, 0]\n",
    "#loch_y = locations_h[:, 1]"
   ]
  },
  {
   "cell_type": "code",
   "execution_count": 219,
   "metadata": {},
   "outputs": [],
   "source": [
    "#避難所と住民の距離\n",
    "di = np.sqrt((x[:, np.newaxis] - loc_x[np.newaxis, :]) ** 2 +(y[:, np.newaxis] - loc_y[np.newaxis, :]) ** 2 )\n",
    "di = di.astype(np.int64)\n",
    "a = np.zeros((N,1),dtype=np.int64)\n",
    "di = np.concatenate([a,di],axis=1)"
   ]
  },
  {
   "cell_type": "markdown",
   "metadata": {},
   "source": [
    "## SCOPで最適化"
   ]
  },
  {
   "cell_type": "code",
   "execution_count": 220,
   "metadata": {},
   "outputs": [],
   "source": [
    "from scop import *"
   ]
  },
  {
   "cell_type": "code",
   "execution_count": 221,
   "metadata": {},
   "outputs": [],
   "source": [
    "m = Model()"
   ]
  },
  {
   "cell_type": "code",
   "execution_count": 223,
   "metadata": {},
   "outputs": [
    {
     "data": {
      "text/plain": [
       "array([[  0,  68,  44,  18,   3,  26,  39,  16,  59,  45,  10],\n",
       "       [  0,  25,  19,  46,  56,  61,  36,  48,  17, 104,  50],\n",
       "       [  0,   0,  25,  51,  65,  78,  59,  53,  10, 109,  62],\n",
       "       [  0,  25,   0,  28,  41,  53,  36,  31,  15,  87,  36],\n",
       "       [  0,  51,  28,   0,  14,  39,  39,   2,  42,  58,  17],\n",
       "       [  0,  65,  41,  14,   0,  28,  39,  12,  56,  47,  10],\n",
       "       [  0,  78,  53,  39,  28,   0,  27,  38,  68,  60,  21],\n",
       "       [  0,  59,  36,  39,  39,  27,   0,  40,  48,  82,  28],\n",
       "       [  0,  53,  31,   2,  12,  38,  40,   0,  45,  56,  16],\n",
       "       [  0,  10,  15,  42,  56,  68,  48,  45,   0, 101,  52],\n",
       "       [  0, 109,  87,  58,  47,  60,  82,  56, 101,   0,  56],\n",
       "       [  0,  62,  36,  17,  10,  21,  28,  16,  52,  56,   0],\n",
       "       [  0, 108,  88,  59,  50,  67,  87,  56, 101,  10,  59],\n",
       "       [  0,   8,  32,  58,  72,  84,  63,  61,  16, 117,  69],\n",
       "       [  0,  78,  53,  40,  31,   3,  25,  40,  68,  63,  23],\n",
       "       [  0,  33,  11,  32,  41,  46,  25,  34,  22,  89,  34],\n",
       "       [  0,  92,  79,  56,  55,  82,  94,  54,  88,  46,  66],\n",
       "       [  0,  58,  50,  37,  45,  74,  75,  36,  56,  66,  53],\n",
       "       [  0,  91,  69,  41,  30,  48,  67,  38,  83,  17,  39],\n",
       "       [  0,  67,  43,  43,  40,  22,   8,  44,  56,  81,  30],\n",
       "       [  0, 106,  89,  62,  57,  79,  96,  60, 101,  28,  67],\n",
       "       [  0,  70,  45,  27,  17,  11,  27,  26,  60,  55,  10],\n",
       "       [  0,  35,  13,  30,  39,  44,  23,  33,  25,  87,  32],\n",
       "       [  0,  78,  72,  56,  62,  91,  95,  55,  77,  68,  71],\n",
       "       [  0,  14,  23,  42,  57,  75,  59,  44,  16,  98,  56],\n",
       "       [  0,  60,  37,  40,  39,  27,   1,  41,  49,  83,  29],\n",
       "       [  0,  18,   8,  33,  46,  61,  44,  35,   9,  91,  43],\n",
       "       [  0,  34,  42,  49,  63,  87,  77,  51,  37,  96,  66],\n",
       "       [  0,  43,  43,  43,  56,  81,  75,  44,  43,  85,  60],\n",
       "       [  0,  75,  53,  25,  17,  42,  56,  22,  67,  34,  27],\n",
       "       [  0,  32,  10,  31,  41,  47,  26,  34,  21,  89,  34],\n",
       "       [  0,  63,  51,  32,  38,  67,  71,  31,  59,  56,  47],\n",
       "       [  0,  45,  23,  34,  39,  37,  13,  36,  34,  86,  30],\n",
       "       [  0,  66,  50,  26,  29,  58,  65,  25,  61,  47,  39],\n",
       "       [  0,  93,  79,  54,  53,  79,  92,  52,  89,  40,  63],\n",
       "       [  0,  75,  74,  64,  73, 101, 102,  64,  76,  83,  80],\n",
       "       [  0,  71,  46,  37,  30,   9,  17,  37,  60,  68,  20],\n",
       "       [  0,  26,  27,  37,  52,  73,  62,  39,  25,  89,  53],\n",
       "       [  0,  82,  74,  56,  61,  89,  95,  55,  80,  63,  70],\n",
       "       [  0,  87,  68,  40,  33,  56,  72,  37,  80,  24,  43],\n",
       "       [  0,  90,  75,  49,  46,  72,  85,  47,  85,  35,  57],\n",
       "       [  0,  65,  56,  40,  47,  76,  79,  39,  62,  62,  55],\n",
       "       [  0,  81,  55,  37,  25,   6,  33,  36,  70,  53,  20],\n",
       "       [  0,  91,  66,  42,  27,  23,  49,  40,  81,  37,  29],\n",
       "       [  0,  73,  55,  27,  25,  52,  63,  25,  67,  37,  35],\n",
       "       [  0,  85,  60,  49,  40,  11,  29,  49,  75,  68,  32],\n",
       "       [  0,  57,  35,   6,  11,  38,  43,   3,  49,  52,  17],\n",
       "       [  0,  29,  24,  30,  44,  67,  57,  32,  27,  82,  46],\n",
       "       [  0,  89,  75,  50,  49,  76,  88,  48,  85,  40,  60],\n",
       "       [  0,  54,  32,  40,  42,  32,   5,  41,  44,  87,  31]])"
      ]
     },
     "execution_count": 223,
     "metadata": {},
     "output_type": "execute_result"
    }
   ],
   "source": [
    "#距離のコスト C\n",
    "#添字0は自宅に留まる選択肢\n",
    "C = di\n",
    "C"
   ]
  },
  {
   "cell_type": "code",
   "execution_count": 225,
   "metadata": {},
   "outputs": [
    {
     "data": {
      "text/plain": [
       "array([[0, 0, 0, 0, 0, 0, 0, 0, 0, 0],\n",
       "       [0, 1, 0, 0, 0, 0, 0, 0, 0, 0],\n",
       "       [0, 0, 1, 0, 0, 0, 0, 0, 0, 0],\n",
       "       [0, 0, 0, 1, 0, 0, 0, 0, 0, 0],\n",
       "       [0, 0, 0, 0, 1, 0, 0, 0, 0, 0],\n",
       "       [0, 0, 0, 0, 0, 1, 0, 0, 0, 0],\n",
       "       [0, 0, 0, 0, 0, 0, 1, 0, 0, 0],\n",
       "       [0, 0, 0, 0, 0, 0, 0, 1, 0, 0],\n",
       "       [0, 0, 0, 0, 0, 0, 0, 0, 1, 0],\n",
       "       [0, 0, 0, 0, 0, 0, 0, 0, 0, 0]])"
      ]
     },
     "execution_count": 225,
     "metadata": {},
     "output_type": "execute_result"
    }
   ],
   "source": [
    "#D[k,l]\n",
    "D = np.zeros((N_sh,N_sh),dtype=np.int64)\n",
    "for i in shelters:\n",
    "    for j in shelters:\n",
    "        if i == j:\n",
    "            D[i,j] = 1\n",
    "        else:\n",
    "            D[i,j] = 0\n",
    "D"
   ]
  },
  {
   "cell_type": "code",
   "execution_count": 226,
   "metadata": {},
   "outputs": [
    {
     "data": {
      "text/plain": [
       "array([[  0,   0,   0, ...,   0,  92, 239],\n",
       "       [  0,   0,   0, ...,   2,  80, 175],\n",
       "       [  0,   0,   0, ...,   1, 109, 259],\n",
       "       ...,\n",
       "       [  0,   2,   1, ...,   0, 329, 960],\n",
       "       [ 92,  80, 109, ..., 329,   0,  24],\n",
       "       [239, 175, 259, ..., 960,  24,   0]])"
      ]
     },
     "execution_count": 226,
     "metadata": {},
     "output_type": "execute_result"
    }
   ],
   "source": [
    "#W[i,j]\n",
    "W = np.zeros((N,N),dtype=np.int64)\n",
    "for i in people:\n",
    "    for j in people:\n",
    "        w1 = max(infec_rate[j] - infec_rate[i],0) * mort_rate[i] + max(infec_rate[i] - infec_rate[j],0) * mort_rate[j]\n",
    "        w2 = (infec_rate[j] - infec_rate[i]) ** 2\n",
    "        W[i,j] = w1*w2/100\n",
    "W"
   ]
  },
  {
   "cell_type": "markdown",
   "metadata": {},
   "source": [
    "### 人iを変数x[i]として、施設kの集合をドメインとする"
   ]
  },
  {
   "cell_type": "code",
   "execution_count": 227,
   "metadata": {},
   "outputs": [],
   "source": [
    "x={}\n",
    "for i in people:\n",
    "    x[i] = m.addVariable(name = 'x[%s]'%i ,domain = shelters)"
   ]
  },
  {
   "cell_type": "markdown",
   "metadata": {},
   "source": [
    "### 目的関数(二次制約クラスQuadratic)\n",
    "#### W[i,j] D[k,l] (X[i]=k) (X[j]=l)の合計の最小化"
   ]
  },
  {
   "cell_type": "code",
   "execution_count": 228,
   "metadata": {},
   "outputs": [],
   "source": [
    "obj = Quadratic('obj',weight = 1 ,\n",
    "                rhs = 0, direction = '<=')\n",
    "for i in people:\n",
    "    for j in people:\n",
    "        if i != j:\n",
    "            for k in shelters:\n",
    "                for l in shelters:\n",
    "                    obj.addTerms(C[i,k]*W[i,j]*D[k,l],x[i],k,x[j],l)\n",
    "m.addConstraint(obj)"
   ]
  },
  {
   "cell_type": "markdown",
   "metadata": {},
   "source": [
    "### 　制約\n",
    "#### 各避難所に割り振られる人数は、避難所の要領以下\n"
   ]
  },
  {
   "cell_type": "code",
   "execution_count": 229,
   "metadata": {},
   "outputs": [
    {
     "data": {
      "text/plain": [
       "{1: <scop.Linear at 0x7fc7b89387f0>,\n",
       " 2: <scop.Linear at 0x7fc7b892f0b8>,\n",
       " 3: <scop.Linear at 0x7fc7b892fc18>,\n",
       " 4: <scop.Linear at 0x7fc7b888b7b8>,\n",
       " 5: <scop.Linear at 0x7fc7b88f8358>,\n",
       " 6: <scop.Linear at 0x7fc7b88f8eb8>,\n",
       " 7: <scop.Linear at 0x7fc7b88f9a58>,\n",
       " 8: <scop.Linear at 0x7fc7b88fa5f8>}"
      ]
     },
     "execution_count": 229,
     "metadata": {},
     "output_type": "execute_result"
    }
   ],
   "source": [
    "UB = {}\n",
    "for k in shelters:\n",
    "    UB[k] = Linear(\"UB{%s}\"%(i),\n",
    "                   weight = 'inf',\n",
    "                   rhs= capacity[k],\n",
    "                   direction = '<=')\n",
    "    for i in people:\n",
    "        UB[k].addTerms(1,x[i],k)\n",
    "    m.addConstraint(UB[k])\n",
    "UB\n",
    "#print(m)"
   ]
  },
  {
   "cell_type": "code",
   "execution_count": 230,
   "metadata": {},
   "outputs": [],
   "source": [
    "#print(m)"
   ]
  },
  {
   "cell_type": "code",
   "execution_count": 231,
   "metadata": {},
   "outputs": [
    {
     "name": "stdout",
     "output_type": "stream",
     "text": [
      "\n",
      " ================ Now solving the problem ================ \n",
      "\n",
      "solution\n",
      "x[0] 1\n",
      "x[1] 1\n",
      "x[2] 2\n",
      "x[3] 3\n",
      "x[4] 3\n",
      "x[5] 3\n",
      "x[6] 3\n",
      "x[7] 4\n",
      "x[8] 4\n",
      "x[9] 2\n",
      "x[10] 4\n",
      "x[11] 1\n",
      "x[12] 2\n",
      "x[13] 4\n",
      "x[14] 1\n",
      "x[15] 4\n",
      "x[16] 8\n",
      "x[17] 3\n",
      "x[18] 6\n",
      "x[19] 2\n",
      "x[20] 2\n",
      "x[21] 3\n",
      "x[22] 3\n",
      "x[23] 2\n",
      "x[24] 1\n",
      "x[25] 1\n",
      "x[26] 4\n",
      "x[27] 1\n",
      "x[28] 2\n",
      "x[29] 3\n",
      "x[30] 4\n",
      "x[31] 2\n",
      "x[32] 3\n",
      "x[33] 3\n",
      "x[34] 4\n",
      "x[35] 3\n",
      "x[36] 2\n",
      "x[37] 2\n",
      "x[38] 5\n",
      "x[39] 4\n",
      "x[40] 3\n",
      "x[41] 3\n",
      "x[42] 1\n",
      "x[43] 2\n",
      "x[44] 4\n",
      "x[45] 2\n",
      "x[46] 3\n",
      "x[47] 2\n",
      "x[48] 1\n",
      "x[49] 7\n",
      "violated constraint(s)\n",
      "obj 394454\n"
     ]
    }
   ],
   "source": [
    "m.Params.TimeLimit=1\n",
    "sol,violated=m.optimize()\n",
    "\n",
    "#print (m)\n",
    "\n",
    "print (\"solution\")\n",
    "for x in sol:\n",
    "    print (x,sol[x])\n",
    "print (\"violated constraint(s)\")\n",
    "for v in violated:\n",
    "    print (v,violated[v])"
   ]
  },
  {
   "cell_type": "code",
   "execution_count": 232,
   "metadata": {},
   "outputs": [
    {
     "data": {
      "text/plain": [
       "[1, 2, 3, 4, 5, 6, 7, 8]"
      ]
     },
     "execution_count": 232,
     "metadata": {},
     "output_type": "execute_result"
    }
   ],
   "source": [
    "L = [i for i in shelters]\n",
    "L\n",
    "#for x in sol:\n",
    "#    print (x,sol[x])\n",
    "#    \"sol[{%s}]\"%x.append()"
   ]
  },
  {
   "cell_type": "code",
   "execution_count": null,
   "metadata": {},
   "outputs": [],
   "source": []
  },
  {
   "cell_type": "code",
   "execution_count": null,
   "metadata": {},
   "outputs": [],
   "source": []
  }
 ],
 "metadata": {
  "kernelspec": {
   "display_name": "Python 3",
   "language": "python",
   "name": "python3"
  },
  "language_info": {
   "codemirror_mode": {
    "name": "ipython",
    "version": 3
   },
   "file_extension": ".py",
   "mimetype": "text/x-python",
   "name": "python",
   "nbconvert_exporter": "python",
   "pygments_lexer": "ipython3",
   "version": "3.6.10"
  }
 },
 "nbformat": 4,
 "nbformat_minor": 4
}
