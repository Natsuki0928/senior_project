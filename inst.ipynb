{
 "cells": [
  {
   "cell_type": "markdown",
   "metadata": {},
   "source": [
    "## 変数\n",
    "- $x_{ik}$ $x_{jl}$ : 人iが避難施設kに避難した場合に１　バイナリー変数\n",
    "\n",
    "## 定数\n",
    "\n",
    "- $D_{kl}$ : 避難施設kとlの間に定義される伝染危険率\n",
    "    - 二つの距離が近いと大きい\n",
    "\n",
    "- $W_{ij} $ : 人i,jでの伝染危険率(以下の二つの重み付き自乗和)\n",
    "\n",
    "    - 感染の差の自乗とmax(jの感染率 – iの感染率,0)・iの死亡率 + max(iの感染率 – jの感染率,0)・ jの死亡率\n",
    "    - 感染率の差の自乗\n",
    "    \n",
    "- $H_{ik} $ : 人iが避難施設kに避難した時の死亡率\n",
    "\n",
    "## 目的関数\n",
    "-  min $\\sum_{ijkl}^{} W_{ij} D_{kl}  x_{ik}  x_{jl} + \\sum_{ik}^{} H_{ik} x_{ik} $\n",
    "## 制約\n",
    "- すべての人 iに対して，x[i,k]の施設kに対する合計 = 1   \n",
    "\n",
    "- 施設kに対してx[i]=kの人に対する合計が施設kの容量以下\n",
    "\n",
    "## 必要な集合\n",
    "- 人の集合 people\n",
    "- 人の感染率の集合 infec_rate\n",
    "- 人の死亡率の集合 mort_rate\n",
    "- 施設集合 shelters\n",
    "- 施設の位置情報 locations\n",
    "- 施設の容量 capacity"
   ]
  },
  {
   "cell_type": "markdown",
   "metadata": {},
   "source": [
    "\\subsection{定式化}\n",
    "\n",
    "\\begin{align}\n",
    "\\text{min.} \\notag \\\\\n",
    "&\\sum_{i \\in I}\\sum_{k \\in K}\\sum_{t \\in T} f_{ik} y_{ikt} \\ + \\sum_{i \\in I}\\sum_{t \\in T} T C^C_{i} X_{it} \\ + \\sum_{i \\in I}\\sum_{j \\in J}\\sum_{t \\in T} T C^D_{ij} x_{ijt} \\notag \\\\ \n",
    "&+\\sum_{i \\in I}\\sum_{t \\in T} h^C s^C_{it} \\ + \\sum_{j \\in J}\\sum_{t \\in T} h^D s^D_{jt} \\ + \\sum_{j \\in J}\\sum_{t \\in T} b\\xi_{jt} \\notag \\\\\n",
    "&+\\sum_{i \\in I}\\sum_{k \\in K}\\sum_{t \\in T} F^O z_{ikt} \\ + \\sum_{i \\in I}\\sum_{k \\in K}\\sum_{t \\in T} F^C w_{ikt} \\ + \\sum_{i \\in I}\\sum_{t \\in T} a\\theta_{it} \n",
    "\\end{align} "
   ]
  },
  {
   "cell_type": "code",
   "execution_count": null,
   "metadata": {},
   "outputs": [],
   "source": []
  }
 ],
 "metadata": {
  "kernelspec": {
   "display_name": "Python 3",
   "language": "python",
   "name": "python3"
  },
  "language_info": {
   "codemirror_mode": {
    "name": "ipython",
    "version": 3
   },
   "file_extension": ".py",
   "mimetype": "text/x-python",
   "name": "python",
   "nbconvert_exporter": "python",
   "pygments_lexer": "ipython3",
   "version": "3.6.10"
  }
 },
 "nbformat": 4,
 "nbformat_minor": 4
}
