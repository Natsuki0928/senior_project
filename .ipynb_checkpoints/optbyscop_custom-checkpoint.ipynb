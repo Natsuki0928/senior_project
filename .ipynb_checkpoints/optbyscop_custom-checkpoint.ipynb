{
 "cells": [
  {
   "cell_type": "markdown",
   "metadata": {},
   "source": [
    "# SCOPによる制約最適化"
   ]
  },
  {
   "cell_type": "markdown",
   "metadata": {},
   "source": [
    "## 変数\n",
    "- $x_{ik}$ $x_{jl}$ : 人iが避難施設kに避難した場合に１　バイナリー変数\n",
    "\n",
    "## 定数\n",
    "\n",
    "- $D_{kl}$ : 避難施設kとlの間に定義される伝染危険率\n",
    "    - 二つの距離が近いと大きい\n",
    "\n",
    "- $W_{ij} $ : 人i,jでの伝染危険率(以下の二つの重み付き自乗和)\n",
    "\n",
    "    - 感染の差の自乗とmax(jの感染率 – iの感染率,0)・iの死亡率 + max(iの感染率 – jの感染率,0)・ jの死亡率\n",
    "    - 感染率の差の自乗\n",
    "    \n",
    "- $C_{ik} $ : 人iと避難施設kの間に定義されるユークリッド距離\n",
    "\n",
    "## 目的関数\n",
    "-  min $\\sum_{ijkl}^{} W_{ij} D_{kl}  x_{ik}  x_{jl}$\n",
    "\n",
    "## 制約\n",
    "- すべての人 iに対して，x[i,k]の施設kに対する合計 = 1   \n",
    "\n",
    "- 施設kに対してx[i]=kの人に対する合計が施設kの容量以下\n",
    "\n",
    "## 必要な集合\n",
    "- 人の集合 people\n",
    "- 人の感染率の集合 infec_rate\n",
    "- 人の死亡率の集合 mort_rate\n",
    "- 施設集合 shelters\n",
    "- 施設の位置情報 locations\n",
    "- 施設の容量 capacity"
   ]
  },
  {
   "cell_type": "code",
   "execution_count": 1,
   "metadata": {},
   "outputs": [],
   "source": [
    "import math\n",
    "import pandas as pd\n",
    "import numpy as np\n",
    "import matplotlib.pyplot as plt\n",
    "%matplotlib inline\n",
    "import random\n",
    "#random.seed(1)\n",
    "np.random.seed(2)"
   ]
  },
  {
   "cell_type": "code",
   "execution_count": 2,
   "metadata": {},
   "outputs": [
    {
     "name": "stdout",
     "output_type": "stream",
     "text": [
      "{0: 6, 1: 0, 2: 2, 3: 0, 4: 3, 5: 2, 6: 4, 7: 4, 8: 0, 9: 6, 10: 5, 11: 8, 12: 3, 13: 9, 14: 8, 15: 0, 16: 10, 17: 9, 18: 5, 19: 5, 20: 10, 21: 2, 22: 5, 23: 10, 24: 1, 25: 7, 26: 1, 27: 3, 28: 9, 29: 3, 30: 3, 31: 7, 32: 10, 33: 6, 34: 9, 35: 8, 36: 10, 37: 3, 38: 3, 39: 7, 40: 2, 41: 93, 42: 92, 43: 87, 44: 84, 45: 92, 46: 87, 47: 94, 48: 90, 49: 98}\n",
      "{0: 2, 1: 8, 2: 2, 3: 9, 4: 2, 5: 6, 6: 1, 7: 5, 8: 8, 9: 5, 10: 2, 11: 1, 12: 9, 13: 10, 14: 6, 15: 2, 16: 0, 17: 3, 18: 7, 19: 3, 20: 9, 21: 0, 22: 9, 23: 9, 24: 1, 25: 10, 26: 2, 27: 6, 28: 5, 29: 4, 30: 6, 31: 5, 32: 5, 33: 9, 34: 8, 35: 10, 36: 1, 37: 10, 38: 6, 39: 2, 40: 1, 41: 98, 42: 99, 43: 92, 44: 85, 45: 96, 46: 83, 47: 82, 48: 93, 49: 94}\n"
     ]
    }
   ],
   "source": [
    "N = 50 #人の数\n",
    "people = [i for i in range(N)] #人の集合\n",
    "infec_rate,mort_rate = {},{}\n",
    "x_y= np.random.rand(N, 2) * 100\n",
    "for i in people:\n",
    "    if i > N-10:\n",
    "        infec_rate[i] = random.randint(80,100)\n",
    "        mort_rate[i] = random.randint(80,100)\n",
    "    else:\n",
    "        infec_rate[i] = random.randint(0,10)\n",
    "        mort_rate[i] = random.randint(0,10)\n",
    "print(infec_rate)\n",
    "print(mort_rate)"
   ]
  },
  {
   "cell_type": "code",
   "execution_count": 3,
   "metadata": {},
   "outputs": [
    {
     "name": "stdout",
     "output_type": "stream",
     "text": [
      "191\n",
      "{0: 100, 1: 1, 2: 1, 3: 1, 4: 1, 5: 1, 6: 18, 7: 19, 8: 13, 9: 18, 10: 18}\n"
     ]
    }
   ],
   "source": [
    "#避難所\n",
    "N_s = 5\n",
    "#ホテル\n",
    "N_h = 5\n",
    "\n",
    "N_sh = N_h + N_s \n",
    "shelters = [i for i in range(0,N_sh+1)] #施設の集合\n",
    "capacity = {}\n",
    "#後半はホテルのキャパ\n",
    "np.random.seed(3)\n",
    "for i in shelters:\n",
    "    if i < N_h+1:\n",
    "        capacity[i] = 1\n",
    "    else:\n",
    "        capacity[i] = np.random.randint(10,20)\n",
    "\n",
    "capacity[0] = 100\n",
    "    \n",
    "locations= np.random.rand(N_sh, 2) * 100\n",
    "#print(locations)\n",
    "print(sum(capacity.values()))\n",
    "print(capacity)"
   ]
  },
  {
   "cell_type": "code",
   "execution_count": 4,
   "metadata": {},
   "outputs": [
    {
     "data": {
      "image/png": "[encoded data removed]",
      "text/plain": [
       "<Figure size 288x288 with 1 Axes>"
      ]
     },
     "metadata": {
      "needs_background": "light"
     },
     "output_type": "display_data"
    }
   ],
   "source": [
    "\"\"\"\n",
    "赤がホテル、黄色が避難所\n",
    "\"\"\"\n",
    "plt.figure(figsize=(4, 4))\n",
    "plt.plot(x_y[:, 0], x_y[:, 1], 'o')\n",
    "plt.plot(locations[0:N_h,0],locations[0:N_h,1],\"ro\")\n",
    "plt.plot(locations[N_h:,0],locations[N_h:,1],\"yo\")\n",
    "#plt.plot((110,0),(0,110))\n",
    "plt.show()"
   ]
  },
  {
   "cell_type": "code",
   "execution_count": 5,
   "metadata": {},
   "outputs": [],
   "source": [
    "x = x_y[:, 0]\n",
    "y = x_y[:, 1]\n",
    "loc_x = locations[:, 0]\n",
    "loc_y = locations[:, 1]\n",
    "#loch_x = locations_h[:, 0]\n",
    "#loch_y = locations_h[:, 1]"
   ]
  },
  {
   "cell_type": "code",
   "execution_count": 6,
   "metadata": {},
   "outputs": [],
   "source": [
    "#避難所と住民の距離\n",
    "di = np.sqrt((x[:, np.newaxis] - loc_x[np.newaxis, :]) ** 2 +(y[:, np.newaxis] - loc_y[np.newaxis, :]) ** 2 )\n",
    "di = di.astype(np.int64)\n",
    "a = np.zeros((N,1),dtype=np.int64)\n",
    "di = np.concatenate([a,di],axis=1)"
   ]
  },
  {
   "cell_type": "markdown",
   "metadata": {},
   "source": [
    "## SCOPで最適化"
   ]
  },
  {
   "cell_type": "code",
   "execution_count": 7,
   "metadata": {},
   "outputs": [],
   "source": [
    "from scop import *"
   ]
  },
  {
   "cell_type": "code",
   "execution_count": 8,
   "metadata": {},
   "outputs": [],
   "source": [
    "m = Model()"
   ]
  },
  {
   "cell_type": "code",
   "execution_count": 9,
   "metadata": {},
   "outputs": [
    {
     "data": {
      "text/plain": [
       "array([[53,  0,  0,  0,  0,  0,  0,  0,  0,  0,  0],\n",
       "       [43,  0,  0,  0,  0,  0,  0,  0,  0,  0,  0],\n",
       "       [89,  0,  0,  0,  0,  0,  0,  0,  0,  0,  0],\n",
       "       [58,  0,  0,  0,  0,  0,  0,  0,  0,  0,  0],\n",
       "       [47,  0,  0,  0,  0,  0,  0,  0,  0,  0,  0],\n",
       "       [30,  0,  0,  0,  0,  0,  0,  0,  0,  0,  0],\n",
       "       [59,  0,  0,  0,  0,  0,  0,  0,  0,  0,  0],\n",
       "       [31,  0,  0,  0,  0,  0,  0,  0,  0,  0,  0],\n",
       "       [88,  0,  0,  0,  0,  0,  0,  0,  0,  0,  0],\n",
       "       [38,  0,  0,  0,  0,  0,  0,  0,  0,  0,  0],\n",
       "       [64,  0,  0,  0,  0,  0,  0,  0,  0,  0,  0],\n",
       "       [10,  0,  0,  0,  0,  0,  0,  0,  0,  0,  0],\n",
       "       [74,  0,  0,  0,  0,  0,  0,  0,  0,  0,  0],\n",
       "       [28,  0,  0,  0,  0,  0,  0,  0,  0,  0,  0],\n",
       "       [73,  0,  0,  0,  0,  0,  0,  0,  0,  0,  0],\n",
       "       [47,  0,  0,  0,  0,  0,  0,  0,  0,  0,  0],\n",
       "       [66,  0,  0,  0,  0,  0,  0,  0,  0,  0,  0],\n",
       "       [66,  0,  0,  0,  0,  0,  0,  0,  0,  0,  0],\n",
       "       [81,  0,  0,  0,  0,  0,  0,  0,  0,  0,  0],\n",
       "       [47,  0,  0,  0,  0,  0,  0,  0,  0,  0,  0],\n",
       "       [56,  0,  0,  0,  0,  0,  0,  0,  0,  0,  0],\n",
       "       [43,  0,  0,  0,  0,  0,  0,  0,  0,  0,  0],\n",
       "       [11,  0,  0,  0,  0,  0,  0,  0,  0,  0,  0],\n",
       "       [95,  0,  0,  0,  0,  0,  0,  0,  0,  0,  0],\n",
       "       [84,  0,  0,  0,  0,  0,  0,  0,  0,  0,  0],\n",
       "       [26,  0,  0,  0,  0,  0,  0,  0,  0,  0,  0],\n",
       "       [90,  0,  0,  0,  0,  0,  0,  0,  0,  0,  0],\n",
       "       [42,  0,  0,  0,  0,  0,  0,  0,  0,  0,  0],\n",
       "       [26,  0,  0,  0,  0,  0,  0,  0,  0,  0,  0],\n",
       "       [28,  0,  0,  0,  0,  0,  0,  0,  0,  0,  0],\n",
       "       [85,  0,  0,  0,  0,  0,  0,  0,  0,  0,  0],\n",
       "       [65,  0,  0,  0,  0,  0,  0,  0,  0,  0,  0],\n",
       "       [23,  0,  0,  0,  0,  0,  0,  0,  0,  0,  0],\n",
       "       [47,  0,  0,  0,  0,  0,  0,  0,  0,  0,  0],\n",
       "       [40,  0,  0,  0,  0,  0,  0,  0,  0,  0,  0],\n",
       "       [58,  0,  0,  0,  0,  0,  0,  0,  0,  0,  0],\n",
       "       [71,  0,  0,  0,  0,  0,  0,  0,  0,  0,  0],\n",
       "       [43,  0,  0,  0,  0,  0,  0,  0,  0,  0,  0],\n",
       "       [62,  0,  0,  0,  0,  0,  0,  0,  0,  0,  0],\n",
       "       [12,  0,  0,  0,  0,  0,  0,  0,  0,  0,  0],\n",
       "       [38,  0,  0,  0,  0,  0,  0,  0,  0,  0,  0],\n",
       "       [46,  0,  0,  0,  0,  0,  0,  0,  0,  0,  0],\n",
       "       [54,  0,  0,  0,  0,  0,  0,  0,  0,  0,  0],\n",
       "       [58,  0,  0,  0,  0,  0,  0,  0,  0,  0,  0],\n",
       "       [69,  0,  0,  0,  0,  0,  0,  0,  0,  0,  0],\n",
       "       [84,  0,  0,  0,  0,  0,  0,  0,  0,  0,  0],\n",
       "       [64,  0,  0,  0,  0,  0,  0,  0,  0,  0,  0],\n",
       "       [31,  0,  0,  0,  0,  0,  0,  0,  0,  0,  0],\n",
       "       [66,  0,  0,  0,  0,  0,  0,  0,  0,  0,  0],\n",
       "       [49,  0,  0,  0,  0,  0,  0,  0,  0,  0,  0]])"
      ]
     },
     "execution_count": 9,
     "metadata": {},
     "output_type": "execute_result"
    }
   ],
   "source": [
    "#場所ごとに危険率を設定\n",
    "H = np.zeros((N,N_sh+1),dtype=np.int64)\n",
    "for i in people:\n",
    "    H[i][0] = np.random.randint(10,100)\n",
    "H"
   ]
  },
  {
   "cell_type": "code",
   "execution_count": 10,
   "metadata": {},
   "outputs": [
    {
     "data": {
      "text/plain": [
       "array([[0, 0, 0, 0, 0, 0, 0, 0, 0, 0, 0],\n",
       "       [0, 1, 0, 0, 0, 0, 0, 0, 0, 0, 0],\n",
       "       [0, 0, 1, 0, 0, 0, 0, 0, 0, 0, 0],\n",
       "       [0, 0, 0, 1, 0, 0, 0, 0, 0, 0, 0],\n",
       "       [0, 0, 0, 0, 1, 0, 0, 0, 0, 0, 0],\n",
       "       [0, 0, 0, 0, 0, 1, 0, 0, 0, 0, 0],\n",
       "       [0, 0, 0, 0, 0, 0, 1, 0, 0, 0, 0],\n",
       "       [0, 0, 0, 0, 0, 0, 0, 1, 0, 0, 0],\n",
       "       [0, 0, 0, 0, 0, 0, 0, 0, 1, 0, 0],\n",
       "       [0, 0, 0, 0, 0, 0, 0, 0, 0, 1, 0],\n",
       "       [0, 0, 0, 0, 0, 0, 0, 0, 0, 0, 1]])"
      ]
     },
     "execution_count": 10,
     "metadata": {},
     "output_type": "execute_result"
    }
   ],
   "source": [
    "#D[k,l]\n",
    "D = np.zeros((N_sh+1,N_sh+1),dtype=np.int64)\n",
    "for i in shelters:\n",
    "    for j in shelters:\n",
    "        if i == j and i != 0 and j!= 0:\n",
    "            D[i,j] = 1\n",
    "        else:\n",
    "            D[i,j] = 0\n",
    "D"
   ]
  },
  {
   "cell_type": "code",
   "execution_count": 11,
   "metadata": {},
   "outputs": [
    {
     "data": {
      "text/plain": [
       "array([[  0,   2,   0, ..., 154, 141, 169],\n",
       "       [  2,   0,   0, ..., 706, 648, 768],\n",
       "       [  0,   0,   0, ..., 169, 154, 184],\n",
       "       ...,\n",
       "       [154, 706, 169, ...,   0,  14,  13],\n",
       "       [141, 648, 154, ...,  14,   0,  59],\n",
       "       [169, 768, 184, ...,  13,  59,   0]])"
      ]
     },
     "execution_count": 11,
     "metadata": {},
     "output_type": "execute_result"
    }
   ],
   "source": [
    "#W[i,j]\n",
    "W = np.zeros((N,N),dtype=np.int64)\n",
    "for i in people:\n",
    "    for j in people:\n",
    "        w1 = max(infec_rate[j] - infec_rate[i],0) * mort_rate[i] + max(infec_rate[i] - infec_rate[j],0) * mort_rate[j]\n",
    "        w2 = abs(infec_rate[j] - infec_rate[i])\n",
    "        W[i,j] = w1*w2/100\n",
    "W"
   ]
  },
  {
   "cell_type": "markdown",
   "metadata": {},
   "source": [
    "### 人iを変数x[i]として、施設kの集合をドメインとする"
   ]
  },
  {
   "cell_type": "code",
   "execution_count": 12,
   "metadata": {},
   "outputs": [],
   "source": [
    "x={}\n",
    "for i in people:\n",
    "    x[i] = m.addVariable(name = 'x[%s]'%i ,domain = shelters)"
   ]
  },
  {
   "cell_type": "markdown",
   "metadata": {},
   "source": [
    "### 目的関数(二次制約クラスQuadratic)\n",
    "#### W[i,j] D[k,l] (X[i]=k) (X[j]=l)の合計の最小化"
   ]
  },
  {
   "cell_type": "code",
   "execution_count": 15,
   "metadata": {},
   "outputs": [],
   "source": [
    "obj = Quadratic('obj',weight = 1 ,\n",
    "                rhs = 0, direction = '<=')\n",
    "for i in people:\n",
    "    for j in people:\n",
    "        if i != j:\n",
    "            for k in shelters:\n",
    "                for l in shelters:\n",
    "                    obj.addTerms(W[i,j]*D[k,l]+H[i,k],x[i],k,x[j],l)\n",
    "m.addConstraint(obj)"
   ]
  },
  {
   "cell_type": "markdown",
   "metadata": {},
   "source": [
    "### 　制約\n",
    "#### 各避難所に割り振られる人数は、避難所の要領以下\n"
   ]
  },
  {
   "cell_type": "code",
   "execution_count": 16,
   "metadata": {},
   "outputs": [],
   "source": [
    "UB = {}\n",
    "for k in shelters:\n",
    "    UB[k] = Linear(\"UB{%s}\"%(i),\n",
    "                   weight = 'inf',\n",
    "                   rhs= capacity[k],\n",
    "                   direction = '<=')\n",
    "    for i in people:\n",
    "        UB[k].addTerms(1,x[i],k)\n",
    "    m.addConstraint(UB[k])\n",
    "#print(m)"
   ]
  },
  {
   "cell_type": "code",
   "execution_count": 17,
   "metadata": {},
   "outputs": [],
   "source": [
    "#print(m)"
   ]
  },
  {
   "cell_type": "code",
   "execution_count": 18,
   "metadata": {},
   "outputs": [
    {
     "name": "stdout",
     "output_type": "stream",
     "text": [
      "\n",
      " ================ Now solving the problem ================ \n",
      "\n",
      "solution\n",
      "x[0] 7\n",
      "x[1] 9\n",
      "x[2] 10\n",
      "x[3] 9\n",
      "x[4] 10\n",
      "x[5] 10\n",
      "x[6] 5\n",
      "x[7] 10\n",
      "x[8] 10\n",
      "x[9] 10\n",
      "x[10] 7\n",
      "x[11] 7\n",
      "x[12] 10\n",
      "x[13] 7\n",
      "x[14] 7\n",
      "x[15] 10\n",
      "x[16] 8\n",
      "x[17] 7\n",
      "x[18] 10\n",
      "x[19] 7\n",
      "x[20] 7\n",
      "x[21] 8\n",
      "x[22] 10\n",
      "x[23] 7\n",
      "x[24] 7\n",
      "x[25] 7\n",
      "x[26] 10\n",
      "x[27] 10\n",
      "x[28] 7\n",
      "x[29] 10\n",
      "x[30] 10\n",
      "x[31] 4\n",
      "x[32] 3\n",
      "x[33] 7\n",
      "x[34] 7\n",
      "x[35] 7\n",
      "x[36] 7\n",
      "x[37] 10\n",
      "x[38] 10\n",
      "x[39] 1\n",
      "x[40] 10\n",
      "x[41] 6\n",
      "x[42] 8\n",
      "x[43] 8\n",
      "x[44] 6\n",
      "x[45] 8\n",
      "x[46] 8\n",
      "x[47] 6\n",
      "x[48] 2\n",
      "x[49] 0\n",
      "violated constraint(s)\n",
      "obj 2899\n"
     ]
    }
   ],
   "source": [
    "m.Params.TimeLimit=1\n",
    "sol,violated=m.optimize()\n",
    "\n",
    "#print (m)\n",
    "\n",
    "print (\"solution\")\n",
    "for x in sol:\n",
    "    print (x,sol[x])\n",
    "print (\"violated constraint(s)\")\n",
    "for v in violated:\n",
    "    print (v,violated[v])"
   ]
  },
  {
   "cell_type": "code",
   "execution_count": 19,
   "metadata": {},
   "outputs": [
    {
     "name": "stdout",
     "output_type": "stream",
     "text": [
      "[1, 1, 1, 1, 1, 1, 3, 16, 6, 2, 17]\n"
     ]
    },
    {
     "data": {
      "image/png": "[encoded data removed]",
      "text/plain": [
       "<Figure size 432x288 with 1 Axes>"
      ]
     },
     "metadata": {
      "needs_background": "light"
     },
     "output_type": "display_data"
    }
   ],
   "source": [
    "L = [i for i in shelters]\n",
    "count = {}\n",
    "L2 = []\n",
    "for i in L:\n",
    "    count[i] = 0\n",
    "for x in sol:\n",
    "    count[int(sol[x])] +=1\n",
    "for j in count:\n",
    "    L2.append(count[j])\n",
    "import numpy as np\n",
    "import matplotlib.pyplot as plt\n",
    "left = L[1:]\n",
    "height = L2[1:]\n",
    "plt.bar(left, height)\n",
    "print(L2)"
   ]
  },
  {
   "cell_type": "code",
   "execution_count": null,
   "metadata": {},
   "outputs": [],
   "source": []
  }
 ],
 "metadata": {
  "kernelspec": {
   "display_name": "Python 3",
   "language": "python",
   "name": "python3"
  },
  "language_info": {
   "codemirror_mode": {
    "name": "ipython",
    "version": 3
   },
   "file_extension": ".py",
   "mimetype": "text/x-python",
   "name": "python",
   "nbconvert_exporter": "python",
   "pygments_lexer": "ipython3",
   "version": "3.6.10"
  }
 },
 "nbformat": 4,
 "nbformat_minor": 4
}
