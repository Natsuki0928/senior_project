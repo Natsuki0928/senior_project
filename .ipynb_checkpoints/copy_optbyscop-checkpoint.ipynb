{
 "cells": [
  {
   "cell_type": "code",
   "execution_count": 11,
   "metadata": {},
   "outputs": [],
   "source": [
    "import math\n",
    "import random\n",
    "import pandas as pd\n",
    "import numpy as np\n",
    "import matplotlib.pyplot as plt\n",
    "%matplotlib inline\n",
    "from scop import *"
   ]
  },
  {
   "cell_type": "code",
   "execution_count": 12,
   "metadata": {},
   "outputs": [],
   "source": [
    "m = Model()"
   ]
  },
  {
   "cell_type": "code",
   "execution_count": 13,
   "metadata": {},
   "outputs": [
    {
     "name": "stdout",
     "output_type": "stream",
     "text": [
      "{0: 0.03, 1: 0.91, 2: 0.35, 3: 0.52, 4: 0.77, 5: 0.39, 6: 0.27, 7: 0.74, 8: 0.52, 9: 0.44}\n",
      "{0: 0.88, 1: 0.1, 2: 0.29, 3: 0.34, 4: 0.48, 5: 0.62, 6: 0.22, 7: 0.95, 8: 0.05, 9: 0.69}\n"
     ]
    }
   ],
   "source": [
    "N = 10 #人の数\n",
    "people = [i for i in range(N)] #人の集合\n",
    "infec_rate,mort_rate = {},{}\n",
    "for i in people:\n",
    "    infec_rate[i] = random.randint(0,100)/100\n",
    "    mort_rate[i] = random.randint(0,100)/100\n",
    "print(infec_rate)\n",
    "print(mort_rate)"
   ]
  },
  {
   "cell_type": "code",
   "execution_count": 14,
   "metadata": {},
   "outputs": [
    {
     "name": "stdout",
     "output_type": "stream",
     "text": [
      "[[18.38689701 55.44227797]\n",
      " [22.23869333 92.07063756]\n",
      " [84.08238654 98.06543072]\n",
      " [86.81959885 45.18541819]\n",
      " [26.85602063 58.14590781]]\n",
      "{0: 1, 1: 2, 2: 1, 3: 3, 4: 3}\n"
     ]
    }
   ],
   "source": [
    "N_s = 5\n",
    "shelters = [i for i in range(N_s)] #施設の集合\n",
    "capacity = {}\n",
    "for i in shelters:\n",
    "    capacity[i] = random.randint(1,3)\n",
    "locations= np.random.rand(N_s, 2) * 100\n",
    "print(locations)\n",
    "print(capacity)"
   ]
  },
  {
   "cell_type": "code",
   "execution_count": 23,
   "metadata": {},
   "outputs": [
    {
     "data": {
      "text/plain": [
       "array([[1., 0., 0., 0., 0.],\n",
       "       [0., 1., 0., 0., 0.],\n",
       "       [0., 0., 1., 0., 0.],\n",
       "       [0., 0., 0., 1., 0.],\n",
       "       [0., 0., 0., 0., 1.]])"
      ]
     },
     "execution_count": 23,
     "metadata": {},
     "output_type": "execute_result"
    }
   ],
   "source": [
    "#D[k,l]\n",
    "D = np.zeros((N_s,N_s))\n",
    "for i in shelters:\n",
    "    for j in shelters:\n",
    "        if i == j:\n",
    "            D[i,j] = 1\n",
    "D"
   ]
  },
  {
   "cell_type": "code",
   "execution_count": 24,
   "metadata": {},
   "outputs": [
    {
     "data": {
      "text/plain": [
       "array([[0.0000000e+00, 5.9969536e-01, 2.8835840e-02, 1.0353112e-01,\n",
       "        3.5659712e-01, 4.1057280e-02, 1.2165120e-02, 3.1496168e-01,\n",
       "        1.0353112e-01, 6.0650480e-02],\n",
       "       [5.9969536e-01, 0.0000000e+00, 5.0928640e-02, 2.0168460e-02,\n",
       "        1.3171200e-03, 8.7176960e-02, 5.7671680e-02, 4.6673500e-03,\n",
       "        2.9659500e-03, 7.1637870e-02],\n",
       "       [2.8835840e-02, 5.0928640e-02, 0.0000000e+00, 1.4247700e-03,\n",
       "        2.1485520e-02, 1.8560000e-05, 1.1264000e-04, 1.7202510e-02,\n",
       "        1.4247700e-03, 2.1141000e-04],\n",
       "       [1.0353112e-01, 2.0168460e-02, 1.4247700e-03, 0.0000000e+00,\n",
       "        5.3125000e-03, 1.3621400e-03, 3.4375000e-03, 3.6203200e-03,\n",
       "        0.0000000e+00, 3.5328000e-04],\n",
       "       [3.5659712e-01, 1.3171200e-03, 2.1485520e-02, 5.3125000e-03,\n",
       "        0.0000000e+00, 3.4020640e-02, 2.7500000e-02, 2.5650000e-05,\n",
       "        7.8125000e-04, 2.4796530e-02],\n",
       "       [4.1057280e-02, 8.7176960e-02, 1.8560000e-05, 1.3621400e-03,\n",
       "        3.4020640e-02, 0.0000000e+00, 3.8016000e-04, 2.6582500e-02,\n",
       "        1.3621400e-03, 7.7500000e-05],\n",
       "       [1.2165120e-02, 5.7671680e-02, 1.1264000e-04, 3.4375000e-03,\n",
       "        2.7500000e-02, 3.8016000e-04, 0.0000000e+00, 2.2841060e-02,\n",
       "        3.4375000e-03, 1.0808600e-03],\n",
       "       [3.1496168e-01, 4.6673500e-03, 1.7202510e-02, 3.6203200e-03,\n",
       "        2.5650000e-05, 2.6582500e-02, 2.2841060e-02, 0.0000000e+00,\n",
       "        5.3240000e-04, 1.8630000e-02],\n",
       "       [1.0353112e-01, 2.9659500e-03, 1.4247700e-03, 0.0000000e+00,\n",
       "        7.8125000e-04, 1.3621400e-03, 3.4375000e-03, 5.3240000e-04,\n",
       "        0.0000000e+00, 3.5328000e-04],\n",
       "       [6.0650480e-02, 7.1637870e-02, 2.1141000e-04, 3.5328000e-04,\n",
       "        2.4796530e-02, 7.7500000e-05, 1.0808600e-03, 1.8630000e-02,\n",
       "        3.5328000e-04, 0.0000000e+00]])"
      ]
     },
     "execution_count": 24,
     "metadata": {},
     "output_type": "execute_result"
    }
   ],
   "source": [
    "#W[i,j]\n",
    "W = np.zeros((N,N))\n",
    "for i in people:\n",
    "    for j in people:\n",
    "        w1 = max(infec_rate[j] - infec_rate[i],0) * mort_rate[i] + max(infec_rate[i] - infec_rate[j],0) * mort_rate[j]\n",
    "        w2 = (infec_rate[j] - infec_rate[i]) ** 2\n",
    "        W[i,j] = w1*w2\n",
    "W"
   ]
  },
  {
   "cell_type": "code",
   "execution_count": 19,
   "metadata": {},
   "outputs": [],
   "source": [
    "#人iを変数x[i]として、施設kの集合をドメインとする\n",
    "x={}\n",
    "for i in people:\n",
    "    x[i] = m.addVariable(name = i ,domain = shelters)"
   ]
  },
  {
   "cell_type": "code",
   "execution_count": 27,
   "metadata": {},
   "outputs": [],
   "source": [
    "#目的関数(二次制約クラスQuadratic)\n",
    "obj = Quadratic('obj',weight = 1 ,\n",
    "                rhs = 0, direction = '<=')\n",
    "for i in people:\n",
    "    for j in people:\n",
    "        if i != j:\n",
    "            for k in shelters:\n",
    "                for l in shelters:\n",
    "                    obj.addTerms(W[i,j]*D[k,l],x[i],k,x[j],l)"
   ]
  },
  {
   "cell_type": "code",
   "execution_count": 25,
   "metadata": {},
   "outputs": [
    {
     "data": {
      "text/plain": [
       "{0: <scop.Linear at 0x7f8a4a8842b0>,\n",
       " 1: <scop.Linear at 0x7f8a4a884470>,\n",
       " 2: <scop.Linear at 0x7f8a4a8847f0>,\n",
       " 3: <scop.Linear at 0x7f8a4a884ba8>,\n",
       " 4: <scop.Linear at 0x7f8a4a884f98>}"
      ]
     },
     "execution_count": 25,
     "metadata": {},
     "output_type": "execute_result"
    }
   ],
   "source": [
    "#各避難所に割り振られる人数は、避難所の要領以下\n",
    "UB = {}\n",
    "for k in shelters:\n",
    "    UB[k] = Linear(\"UB{%s}\"%(i),\n",
    "                   weight = 'inf',\n",
    "                   rhs= capacity[k],\n",
    "                   direction = '<=')\n",
    "    for i in people:\n",
    "        UB[k].addTerms(1,x[i],k)\n",
    "    m.addConstraint(UB[k])\n",
    "UB"
   ]
  },
  {
   "cell_type": "code",
   "execution_count": 22,
   "metadata": {},
   "outputs": [
    {
     "name": "stdout",
     "output_type": "stream",
     "text": [
      "\n",
      " ================ Now solving the problem ================ \n",
      "\n",
      "Status= 5\n",
      "Output= # reading data ...\n",
      "1: parse error befor/at `0'\n",
      "\n",
      "Model: \n",
      "number of variables = 10  \n",
      "number of constraints= 5  \n",
      "variable 0:['0', '1', '2', '3', '4'] = None \n",
      "variable 1:['0', '1', '2', '3', '4'] = None \n",
      "variable 2:['0', '1', '2', '3', '4'] = None \n",
      "variable 3:['0', '1', '2', '3', '4'] = None \n",
      "variable 4:['0', '1', '2', '3', '4'] = None \n",
      "variable 5:['0', '1', '2', '3', '4'] = None \n",
      "variable 6:['0', '1', '2', '3', '4'] = None \n",
      "variable 7:['0', '1', '2', '3', '4'] = None \n",
      "variable 8:['0', '1', '2', '3', '4'] = None \n",
      "variable 9:['0', '1', '2', '3', '4'] = None \n",
      "UB_9_: weight= inf type=linear 1(0,0) 1(1,0) 1(2,0) 1(3,0) 1(4,0) 1(5,0) 1(6,0) 1(7,0) 1(8,0) 1(9,0) <=1 :LHS =0  \n",
      "UB_9_: weight= inf type=linear 1(0,1) 1(1,1) 1(2,1) 1(3,1) 1(4,1) 1(5,1) 1(6,1) 1(7,1) 1(8,1) 1(9,1) <=2 :LHS =0  \n",
      "UB_9_: weight= inf type=linear 1(0,2) 1(1,2) 1(2,2) 1(3,2) 1(4,2) 1(5,2) 1(6,2) 1(7,2) 1(8,2) 1(9,2) <=1 :LHS =0  \n",
      "UB_9_: weight= inf type=linear 1(0,3) 1(1,3) 1(2,3) 1(3,3) 1(4,3) 1(5,3) 1(6,3) 1(7,3) 1(8,3) 1(9,3) <=3 :LHS =0  \n",
      "UB_9_: weight= inf type=linear 1(0,4) 1(1,4) 1(2,4) 1(3,4) 1(4,4) 1(5,4) 1(6,4) 1(7,4) 1(8,4) 1(9,4) <=3 :LHS =0 \n",
      "solution\n"
     ]
    },
    {
     "ename": "TypeError",
     "evalue": "'NoneType' object is not iterable",
     "output_type": "error",
     "traceback": [
      "\u001b[0;31m-----------------------------------------------\u001b[0m",
      "\u001b[0;31mTypeError\u001b[0m     Traceback (most recent call last)",
      "\u001b[0;32m<ipython-input-22-0c5c4b48b718>\u001b[0m in \u001b[0;36m<module>\u001b[0;34m\u001b[0m\n\u001b[1;32m      5\u001b[0m \u001b[0;34m\u001b[0m\u001b[0m\n\u001b[1;32m      6\u001b[0m \u001b[0mprint\u001b[0m \u001b[0;34m(\u001b[0m\u001b[0;34m\"solution\"\u001b[0m\u001b[0;34m)\u001b[0m\u001b[0;34m\u001b[0m\u001b[0;34m\u001b[0m\u001b[0m\n\u001b[0;32m----> 7\u001b[0;31m \u001b[0;32mfor\u001b[0m \u001b[0mx\u001b[0m \u001b[0;32min\u001b[0m \u001b[0msol\u001b[0m\u001b[0;34m:\u001b[0m\u001b[0;34m\u001b[0m\u001b[0;34m\u001b[0m\u001b[0m\n\u001b[0m\u001b[1;32m      8\u001b[0m     \u001b[0mprint\u001b[0m \u001b[0;34m(\u001b[0m\u001b[0mx\u001b[0m\u001b[0;34m,\u001b[0m\u001b[0msol\u001b[0m\u001b[0;34m[\u001b[0m\u001b[0mx\u001b[0m\u001b[0;34m]\u001b[0m\u001b[0;34m)\u001b[0m\u001b[0;34m\u001b[0m\u001b[0;34m\u001b[0m\u001b[0m\n\u001b[1;32m      9\u001b[0m \u001b[0mprint\u001b[0m \u001b[0;34m(\u001b[0m\u001b[0;34m\"violated constraint(s)\"\u001b[0m\u001b[0;34m)\u001b[0m\u001b[0;34m\u001b[0m\u001b[0;34m\u001b[0m\u001b[0m\n",
      "\u001b[0;31mTypeError\u001b[0m: 'NoneType' object is not iterable"
     ]
    }
   ],
   "source": [
    "m.Params.TimeLimit=1\n",
    "sol,violated=m.optimize()\n",
    "\n",
    "print (m)\n",
    "\n",
    "print (\"solution\")\n",
    "for x in sol:\n",
    "    print (x,sol[x])\n",
    "print (\"violated constraint(s)\")\n",
    "for v in violated:\n",
    "    print (v,violated[v])"
   ]
  },
  {
   "cell_type": "code",
   "execution_count": null,
   "metadata": {},
   "outputs": [],
   "source": []
  },
  {
   "cell_type": "code",
   "execution_count": null,
   "metadata": {},
   "outputs": [],
   "source": []
  },
  {
   "cell_type": "code",
   "execution_count": null,
   "metadata": {},
   "outputs": [],
   "source": []
  },
  {
   "cell_type": "code",
   "execution_count": null,
   "metadata": {},
   "outputs": [],
   "source": []
  },
  {
   "cell_type": "code",
   "execution_count": null,
   "metadata": {},
   "outputs": [],
   "source": []
  }
 ],
 "metadata": {
  "kernelspec": {
   "display_name": "Python 3",
   "language": "python",
   "name": "python3"
  },
  "language_info": {
   "codemirror_mode": {
    "name": "ipython",
    "version": 3
   },
   "file_extension": ".py",
   "mimetype": "text/x-python",
   "name": "python",
   "nbconvert_exporter": "python",
   "pygments_lexer": "ipython3",
   "version": "3.6.10"
  }
 },
 "nbformat": 4,
 "nbformat_minor": 4
}
