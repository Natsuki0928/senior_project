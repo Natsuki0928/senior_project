{
 "cells": [
  {
   "cell_type": "code",
   "execution_count": 110,
   "metadata": {},
   "outputs": [],
   "source": [
    "import math\n",
    "import pandas as pd\n",
    "import numpy as np\n",
    "import matplotlib.pyplot as plt\n",
    "%matplotlib inline\n",
    "import random\n",
    "random.seed(1)\n",
    "np.random.seed(1)"
   ]
  },
  {
   "cell_type": "code",
   "execution_count": 111,
   "metadata": {},
   "outputs": [],
   "source": [
    "N = 50 #人の数\n",
    "people = [i for i in range(N)] #人の集合\n",
    "infec_rate,mort_rate = {},{}\n",
    "x_y= np.random.rand(N, 2) * 100\n",
    "for i in people:\n",
    "    infec_rate[i] = random.randint(0,100)\n",
    "    mort_rate[i] = random.randint(0,100)\n",
    "#print(infec_rate)\n",
    "#print(mort_rate)"
   ]
  },
  {
   "cell_type": "code",
   "execution_count": 112,
   "metadata": {},
   "outputs": [
    {
     "name": "stdout",
     "output_type": "stream",
     "text": [
      "[[43.59949021  2.59262318]\n",
      " [54.96624779 43.53223926]\n",
      " [42.03678021 33.0334821 ]\n",
      " [20.4648634  61.92709664]\n",
      " [29.96546737 26.68272751]]\n",
      "{0: 3, 1: 3, 2: 1, 3: 1, 4: 3}\n"
     ]
    }
   ],
   "source": [
    "N_s = 5\n",
    "shelters = [i for i in range(N_s)] #施設の集合\n",
    "capacity = {}\n",
    "for i in shelters:\n",
    "    capacity[i] = random.randint(1,3)\n",
    "np.random.seed(2)\n",
    "locations= np.random.rand(N_s, 2) * 100\n",
    "print(locations)\n",
    "print(capacity)"
   ]
  },
  {
   "cell_type": "code",
   "execution_count": 113,
   "metadata": {},
   "outputs": [
    {
     "name": "stdout",
     "output_type": "stream",
     "text": [
      "[[33.04787415 42.48886936]\n",
      " [17.45428433 30.64965631]\n",
      " [53.57681726 53.77758534]\n",
      " [ 7.53511863 12.43457269]\n",
      " [ 3.0880322  26.44859062]]\n",
      "{0: 1, 1: 1, 2: 1, 3: 1, 4: 1}\n"
     ]
    }
   ],
   "source": [
    "#ホテル\n",
    "N_h = 5\n",
    "hotels = [i for i in range(N_s)] #施設の集合\n",
    "capacity_h = {}\n",
    "for i in hotels:\n",
    "    capacity[i] = 1\n",
    "np.random.seed(3)\n",
    "locations_h = np.random.rand(N_s, 2) * 60\n",
    "print(locations_h)\n",
    "print(capacity)"
   ]
  },
  {
   "cell_type": "code",
   "execution_count": 114,
   "metadata": {},
   "outputs": [
    {
     "data": {
      "image/png": "[encoded data removed]",
      "text/plain": [
       "<Figure size 288x288 with 1 Axes>"
      ]
     },
     "metadata": {
      "needs_background": "light"
     },
     "output_type": "display_data"
    }
   ],
   "source": [
    "plt.figure(figsize=(4, 4))\n",
    "plt.plot(x_y[:, 0], x_y[:, 1], 'o')\n",
    "plt.plot(locations[:,0],locations[:,1],\"ro\")\n",
    "plt.plot(locations_h[:,0],locations_h[:,1],\"yo\")\n",
    "plt.plot((110,0),(0,110))\n",
    "plt.show()"
   ]
  },
  {
   "cell_type": "code",
   "execution_count": 115,
   "metadata": {},
   "outputs": [],
   "source": [
    "x = x_y[:, 0]\n",
    "y = x_y[:, 1]\n",
    "loc_x = locations[:, 0]\n",
    "loc_y = locations[:, 1]\n",
    "loch_x = locations_h[:, 0]\n",
    "loch_y = locations_h[:, 1]"
   ]
  },
  {
   "cell_type": "code",
   "execution_count": 109,
   "metadata": {},
   "outputs": [],
   "source": [
    "#避難所と住民の距離\n",
    "di = np.sqrt((x[:, np.newaxis] - loc_x[np.newaxis, :]) ** 2 +(y[:, np.newaxis] - loc_y[np.newaxis, :]) ** 2)\n",
    "#ホテルと住民の距離\n",
    "di_h = np.sqrt((x[:, np.newaxis] - loch_x[np.newaxis, :]) ** 2 +(y[:, np.newaxis] - loch_y[np.newaxis, :]) ** 2)"
   ]
  },
  {
   "cell_type": "code",
   "execution_count": null,
   "metadata": {},
   "outputs": [],
   "source": []
  },
  {
   "cell_type": "code",
   "execution_count": null,
   "metadata": {},
   "outputs": [],
   "source": []
  }
 ],
 "metadata": {
  "kernelspec": {
   "display_name": "Python 3",
   "language": "python",
   "name": "python3"
  },
  "language_info": {
   "codemirror_mode": {
    "name": "ipython",
    "version": 3
   },
   "file_extension": ".py",
   "mimetype": "text/x-python",
   "name": "python",
   "nbconvert_exporter": "python",
   "pygments_lexer": "ipython3",
   "version": "3.6.10"
  }
 },
 "nbformat": 4,
 "nbformat_minor": 4
}
