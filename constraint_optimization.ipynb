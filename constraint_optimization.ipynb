{
 "cells": [
  {
   "cell_type": "markdown",
   "metadata": {},
   "source": [
    "# gurobiによる制約最適化を行う"
   ]
  },
  {
   "cell_type": "code",
   "execution_count": 144,
   "metadata": {},
   "outputs": [],
   "source": [
    "import math\n",
    "import random\n",
    "import networkx\n",
    "import pandas as pd\n",
    "import numpy as np\n",
    "import matplotlib.pyplot as plt\n",
    "%matplotlib inline\n",
    "import networkx\n",
    "from gurobipy import *"
   ]
  },
  {
   "cell_type": "markdown",
   "metadata": {},
   "source": [
    "## 変数\n",
    "- $x_{ik}$ $x_{jl}$ : 人iが避難施設kに避難した場合に１　バイナリー変数\n",
    "\n",
    "## 定数\n",
    "\n",
    "- $D_{kl}$ : 避難施設kとlの間に定義される伝染危険率\n",
    "    - 二つの距離が近いと大きい\n",
    "\n",
    "- $W_{ij} $ : 人i,jでの伝染危険率(以下の二つの重み付き自乗和)\n",
    "\n",
    "    - 感染の差の自乗とmax(jの感染率 – iの感染率,0)・iの死亡率 + max(iの感染率 – jの感染率,0)・ jの死亡率\n",
    "    - 感染率の差の自乗和\n",
    "\n",
    "## 目的関数\n",
    "-  min $\\sum_{ijkl}^{} W_{ij} D_{kl}  x_{ik}  x_{jl}$\n",
    "\n",
    "\n",
    "## 制約\n",
    "- すべての人 iに対して，x[i,k]の施設kに対する合計 = 1   \n",
    "\n",
    "- 施設kに対してx[i]=kの人に対する合計が施設kの容量以下\n",
    "\n",
    "## 必要な集合\n",
    "- 人の集合 people\n",
    "- 人の感染率の集合 infec_rate\n",
    "- 人の死亡率の集合 mort_rate\n",
    "- 施設集合 shelters\n",
    "- 施設の位置情報 locations\n",
    "- 施設の容量 capacity"
   ]
  },
  {
   "cell_type": "markdown",
   "metadata": {},
   "source": [
    "# random.seed(0)"
   ]
  },
  {
   "cell_type": "code",
   "execution_count": 146,
   "metadata": {},
   "outputs": [
    {
     "name": "stdout",
     "output_type": "stream",
     "text": [
      "{0: 0.49, 1: 0.53, 2: 0.33, 3: 0.62, 4: 1.0, 5: 0.61, 6: 0.74, 7: 0.64, 8: 0.36, 9: 0.96}\n",
      "{0: 0.97, 1: 0.05, 2: 0.65, 3: 0.51, 4: 0.38, 5: 0.45, 6: 0.27, 7: 0.17, 8: 0.17, 9: 0.12}\n"
     ]
    }
   ],
   "source": [
    "N = 10 #人の数\n",
    "people = [i for i in range(N)] #人の集合\n",
    "infec_rate,mort_rate = {},{}\n",
    "for i in people:\n",
    "    infec_rate[i] = random.randint(0,100)/100\n",
    "    mort_rate[i] = random.randint(0,100)/100\n",
    "print(infec_rate)\n",
    "print(mort_rate)"
   ]
  },
  {
   "cell_type": "code",
   "execution_count": 147,
   "metadata": {},
   "outputs": [
    {
     "name": "stdout",
     "output_type": "stream",
     "text": [
      "[[22.62105182 11.31026766]\n",
      " [58.41387508 54.1486509 ]\n",
      " [90.50280073 41.65557359]\n",
      " [32.26651766 50.39966179]\n",
      " [ 2.26331577 69.26583333]]\n",
      "{0: 4, 1: 2, 2: 4, 3: 5, 4: 4}\n"
     ]
    }
   ],
   "source": [
    "N_s = 5\n",
    "shelters = [i for i in range(N_s)] #施設の集合\n",
    "capacity = {}\n",
    "for i in shelters:\n",
    "    capacity[i] = random.randint(0,5)\n",
    "locations= np.random.rand(N_s, 2) * 100\n",
    "print(locations)\n",
    "print(capacity)"
   ]
  },
  {
   "cell_type": "code",
   "execution_count": 148,
   "metadata": {},
   "outputs": [
    {
     "data": {
      "text/plain": [
       "array([[ 0.        , 55.82341153, 74.35569532, 40.26183981, 61.42707066],\n",
       "       [55.82341153,  0.        , 34.43510026, 26.41475382, 58.14993134],\n",
       "       [74.35569532, 34.43510026,  0.        , 58.88908001, 92.45827788],\n",
       "       [40.26183981, 26.41475382, 58.88908001,  0.        , 35.44184747],\n",
       "       [61.42707066, 58.14993134, 92.45827788, 35.44184747,  0.        ]])"
      ]
     },
     "execution_count": 148,
     "metadata": {},
     "output_type": "execute_result"
    }
   ],
   "source": [
    "#D[k,l]施設間の感染率　簡易的に距離で置いている\n",
    "x_y = np.array(locations)\n",
    "x = x_y[:, 0]\n",
    "y = x_y[:, 1]\n",
    "D = np.sqrt((x[:, np.newaxis] - x[np.newaxis, :]) ** 2 +(y[:, np.newaxis] - y[np.newaxis, :]) ** 2)\n",
    "D"
   ]
  },
  {
   "cell_type": "code",
   "execution_count": 149,
   "metadata": {},
   "outputs": [
    {
     "data": {
      "text/plain": [
       "array([[0.0000000e+00, 6.2080000e-05, 2.6624000e-03, 2.1310900e-03,\n",
       "        1.2867147e-01, 1.6761600e-03, 1.5156250e-02, 3.2737500e-03,\n",
       "        3.7349000e-04, 1.0070831e-01],\n",
       "       [6.2080000e-05, 0.0000000e+00, 5.2000000e-03, 3.6450000e-05,\n",
       "        5.1911500e-03, 2.5600000e-05, 4.6305000e-04, 6.6550000e-05,\n",
       "        8.3521000e-04, 3.9753500e-03],\n",
       "       [2.6624000e-03, 5.2000000e-03, 0.0000000e+00, 1.5852850e-02,\n",
       "        1.9549595e-01, 1.4268800e-02, 4.4798650e-02, 1.9364150e-02,\n",
       "        1.7550000e-05, 1.6253055e-01],\n",
       "       [2.1310900e-03, 3.6450000e-05, 1.5852850e-02, 0.0000000e+00,\n",
       "        2.7984720e-02, 4.5000000e-07, 8.8128000e-04, 4.0800000e-06,\n",
       "        2.9879200e-03, 2.0045040e-02],\n",
       "       [1.2867147e-01, 5.1911500e-03, 1.9549595e-01, 2.7984720e-02,\n",
       "        0.0000000e+00, 2.6693550e-02, 4.7455200e-03, 7.9315200e-03,\n",
       "        4.4564480e-02, 7.6800000e-06],\n",
       "       [1.6761600e-03, 2.5600000e-05, 1.4268800e-02, 4.5000000e-07,\n",
       "        2.6693550e-02, 0.0000000e+00, 9.8865000e-04, 1.2150000e-05,\n",
       "        2.6562500e-03, 1.9293750e-02],\n",
       "       [1.5156250e-02, 4.6305000e-04, 4.4798650e-02, 8.8128000e-04,\n",
       "        4.7455200e-03, 9.8865000e-04, 0.0000000e+00, 1.7000000e-04,\n",
       "        9.3282400e-03, 2.8749600e-03],\n",
       "       [3.2737500e-03, 6.6550000e-05, 1.9364150e-02, 4.0800000e-06,\n",
       "        7.9315200e-03, 1.2150000e-05, 1.7000000e-04, 0.0000000e+00,\n",
       "        3.7318400e-03, 5.5705600e-03],\n",
       "       [3.7349000e-04, 8.3521000e-04, 1.7550000e-05, 2.9879200e-03,\n",
       "        4.4564480e-02, 2.6562500e-03, 9.3282400e-03, 3.7318400e-03,\n",
       "        0.0000000e+00, 3.6720000e-02],\n",
       "       [1.0070831e-01, 3.9753500e-03, 1.6253055e-01, 2.0045040e-02,\n",
       "        7.6800000e-06, 1.9293750e-02, 2.8749600e-03, 5.5705600e-03,\n",
       "        3.6720000e-02, 0.0000000e+00]])"
      ]
     },
     "execution_count": 149,
     "metadata": {},
     "output_type": "execute_result"
    }
   ],
   "source": [
    "#W[i,j]\n",
    "W = np.zeros((N,N))\n",
    "for i in people:\n",
    "    for j in people:\n",
    "        w1 = max(infec_rate[j] - infec_rate[i],0) * mort_rate[i] + max(infec_rate[i] - infec_rate[j],0) * mort_rate[j]\n",
    "        w2 = (infec_rate[j] - infec_rate[i]) ** 2\n",
    "        W[i,j] = w1*w2\n",
    "W"
   ]
  },
  {
   "cell_type": "code",
   "execution_count": 150,
   "metadata": {},
   "outputs": [],
   "source": [
    "model = Model()"
   ]
  },
  {
   "cell_type": "code",
   "execution_count": 151,
   "metadata": {},
   "outputs": [],
   "source": [
    "#人iが避難施設kに避難した場合に1になる0-1変数 x[i,k] x[j,l]\n",
    "x = {}\n",
    "for i in people:\n",
    "    for k in shelters:\n",
    "        x[i,k] = model.addVar(ub=1, vtype=\"B\", name=\"x(%s,%s)\"%(i,k))\n",
    "        \n",
    "for j in people:\n",
    "    for l in shelters:\n",
    "        x[j,l] = model.addVar(ub=1, vtype=\"B\", name=\"x(%s,%s)\"%(j,l))\n",
    "        \n",
    "model.update()"
   ]
  },
  {
   "cell_type": "code",
   "execution_count": 152,
   "metadata": {},
   "outputs": [],
   "source": [
    "# z[i,k,j,l]という新しい変数をおく\n",
    "z = {}\n",
    "for i in people:\n",
    "    for k in shelters:\n",
    "        for j in people:\n",
    "            for l in shelters:\n",
    "                z[i,k,j,l] = model.addVar(vtype=\"B\",name=\"z(%s,%s,%s,%s)\"%(i,k,j,l))\n",
    "model.update()"
   ]
  },
  {
   "cell_type": "markdown",
   "metadata": {},
   "source": [
    "## 制約"
   ]
  },
  {
   "cell_type": "code",
   "execution_count": 153,
   "metadata": {},
   "outputs": [],
   "source": [
    "# すべての人 iに対して，x[i,k]の施設kに対する合計 = 1   \n",
    "for i in people:\n",
    "    model.addConstr(quicksum(x[i,k] for k in shelters)== 1)\n",
    "    \n",
    "#すべての施設kに対して，x[i,k] の人に対する合計が施設kの容量以下\n",
    "for k in shelters:\n",
    "    model.addConstr(quicksum(x[i,k] for i in people) <= capacity[k])\n",
    "model.update()"
   ]
  },
  {
   "cell_type": "code",
   "execution_count": 154,
   "metadata": {},
   "outputs": [
    {
     "ename": "KeyError",
     "evalue": "(0, 5)",
     "output_type": "error",
     "traceback": [
      "\u001b[0;31m---------------------------------------------------------------------------\u001b[0m",
      "\u001b[0;31mKeyError\u001b[0m                                  Traceback (most recent call last)",
      "\u001b[0;32m<ipython-input-154-208eed91b063>\u001b[0m in \u001b[0;36m<module>\u001b[0;34m\u001b[0m\n\u001b[1;32m      4\u001b[0m         \u001b[0;32mfor\u001b[0m \u001b[0mj\u001b[0m \u001b[0;32min\u001b[0m \u001b[0mpeople\u001b[0m\u001b[0;34m:\u001b[0m\u001b[0;34m\u001b[0m\u001b[0;34m\u001b[0m\u001b[0m\n\u001b[1;32m      5\u001b[0m             \u001b[0;32mfor\u001b[0m \u001b[0ml\u001b[0m \u001b[0;32min\u001b[0m \u001b[0mshelters\u001b[0m\u001b[0;34m:\u001b[0m\u001b[0;34m\u001b[0m\u001b[0;34m\u001b[0m\u001b[0m\n\u001b[0;32m----> 6\u001b[0;31m                 \u001b[0mmodel\u001b[0m\u001b[0;34m.\u001b[0m\u001b[0maddConstr\u001b[0m\u001b[0;34m(\u001b[0m\u001b[0mz\u001b[0m\u001b[0;34m[\u001b[0m\u001b[0mi\u001b[0m\u001b[0;34m,\u001b[0m\u001b[0mk\u001b[0m\u001b[0;34m,\u001b[0m\u001b[0mj\u001b[0m\u001b[0;34m,\u001b[0m\u001b[0ml\u001b[0m\u001b[0;34m]\u001b[0m \u001b[0;34m<=\u001b[0m \u001b[0mx\u001b[0m\u001b[0;34m[\u001b[0m\u001b[0mi\u001b[0m\u001b[0;34m,\u001b[0m\u001b[0mj\u001b[0m\u001b[0;34m]\u001b[0m \u001b[0;34m+\u001b[0m \u001b[0mx\u001b[0m\u001b[0;34m[\u001b[0m\u001b[0mj\u001b[0m\u001b[0;34m,\u001b[0m\u001b[0ml\u001b[0m\u001b[0;34m]\u001b[0m \u001b[0;34m-\u001b[0m\u001b[0;36m1\u001b[0m\u001b[0;34m)\u001b[0m\u001b[0;34m\u001b[0m\u001b[0;34m\u001b[0m\u001b[0m\n\u001b[0m",
      "\u001b[0;31mKeyError\u001b[0m: (0, 5)"
     ]
    }
   ],
   "source": [
    "# Z[i,k,j,l]の制約\n",
    "for i in people:\n",
    "    for k in shelters:\n",
    "        for j in people:\n",
    "            for l in shelters:\n",
    "                model.addConstr(z[i,k,j,l] <= x[i,j] + x[j,l] -1)"
   ]
  },
  {
   "cell_type": "code",
   "execution_count": 155,
   "metadata": {},
   "outputs": [],
   "source": [
    "#目的関数\n",
    "model.setObjective(quicksum(W[i,j]*D[k,l]*z[i,k,j,l]\n",
    "                            for i in people\n",
    "                            for j in people\n",
    "                            for k in shelters\n",
    "                            for l in shelters\n",
    "                            if j>i), GRB.MINIMIZE)\n",
    "\n",
    "model.update()"
   ]
  },
  {
   "cell_type": "code",
   "execution_count": null,
   "metadata": {},
   "outputs": [],
   "source": []
  }
 ],
 "metadata": {
  "kernelspec": {
   "display_name": "Python 3",
   "language": "python",
   "name": "python3"
  },
  "language_info": {
   "codemirror_mode": {
    "name": "ipython",
    "version": 3
   },
   "file_extension": ".py",
   "mimetype": "text/x-python",
   "name": "python",
   "nbconvert_exporter": "python",
   "pygments_lexer": "ipython3",
   "version": "3.6.10"
  }
 },
 "nbformat": 4,
 "nbformat_minor": 4
}
