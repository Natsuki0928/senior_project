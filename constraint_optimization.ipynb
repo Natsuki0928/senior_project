{
 "cells": [
  {
   "cell_type": "markdown",
   "metadata": {},
   "source": [
    "# gurobiによる制約最適化を行う"
   ]
  },
  {
   "cell_type": "code",
   "execution_count": 5,
   "metadata": {},
   "outputs": [],
   "source": [
    "import math\n",
    "import random\n",
    "import networkx\n",
    "import pandas as pd\n",
    "import numpy as np\n",
    "import matplotlib.pyplot as plt\n",
    "%matplotlib inline\n",
    "import networkx\n",
    "from gurobipy import *"
   ]
  },
  {
   "cell_type": "markdown",
   "metadata": {},
   "source": [
    "## 変数\n",
    "- 人iが避難施設kに避難した場合に１　バイナリー変数 x[i,k] ,x[j,l]\n",
    "\n",
    "- 避難施設kとlの間に定義される伝染危険率 D[k,l]\n",
    "\n",
    "- 人i,jでの伝染危険率 W[i,j]\n",
    "\n",
    "## 定数\n",
    "\n",
    "- max(jの感染率 – iの感染率,0)・iの死亡率 + max(iの感染率 – jの感染率,0)・ jの死亡率 \n",
    "## 目的関数\n",
    "-  W[i,j] D[k,l] (X[i]=k) (X[j]=l)の合計　の最小化\n",
    "\n",
    "## 制約\n",
    "- すべての人 iに対して，x[i,k]の施設kに対する合計 = 1   \n",
    "- 施設kに対してx[i]=kの人に対する合計が施設kの容量以下\n",
    "\n",
    "## 必要な集合\n",
    "- 人の集合I\n",
    "- 施設集合K\n",
    "- 施設の容量\n",
    "- "
   ]
  },
  {
   "cell_type": "code",
   "execution_count": 12,
   "metadata": {},
   "outputs": [
    {
     "data": {
      "text/plain": [
       "{0: 0,\n",
       " 1: 20,\n",
       " 2: 20,\n",
       " 3: 20,\n",
       " 4: 13,\n",
       " 5: 18,\n",
       " 6: 18,\n",
       " 7: 12,\n",
       " 8: 14,\n",
       " 9: 10,\n",
       " 10: 20,\n",
       " 11: 14,\n",
       " 12: 19,\n",
       " 13: 15,\n",
       " 14: 11,\n",
       " 15: 13,\n",
       " 16: 11,\n",
       " 17: 15,\n",
       " 18: 18,\n",
       " 19: 18,\n",
       " 20: 13,\n",
       " 21: 13,\n",
       " 22: 10,\n",
       " 23: 10,\n",
       " 24: 17,\n",
       " 25: 12,\n",
       " 26: 11,\n",
       " 27: 16,\n",
       " 28: 10,\n",
       " 29: 12}"
      ]
     },
     "execution_count": 12,
     "metadata": {},
     "output_type": "execute_result"
    }
   ],
   "source": [
    "I = [i for i in range(30)] #人の集合\n",
    "q = {} \n",
    "for i in V:\n",
    "    q[0] = 0\n",
    "    q[i] = random.randint(10,20)\n",
    "q"
   ]
  },
  {
   "cell_type": "code",
   "execution_count": 6,
   "metadata": {},
   "outputs": [
    {
     "name": "stdout",
     "output_type": "stream",
     "text": [
      "Using license file /Users/suzukinatsuki/gurobi.lic\n",
      "Academic license - for non-commercial use only\n"
     ]
    }
   ],
   "source": [
    "model = Model()"
   ]
  },
  {
   "cell_type": "code",
   "execution_count": null,
   "metadata": {},
   "outputs": [],
   "source": [
    "#変数\n",
    "x = {}\n",
    "for i in V:\n",
    "    for j in V:\n",
    "        for t in T:\n",
    "            if j > i and i == V[0]:       # depot\n",
    "                x[i,j,t] = model.addVar(ub=2, vtype=\"I\", name=\"x(%s,%s,%s)\"%(i,j,t))\n",
    "            elif j > i:\n",
    "                x[i,j,t] = model.addVar(ub=1, vtype=\"I\", name=\"x(%s,%s,%s)\"%(i,j,t))\n",
    "\n",
    "\n",
    "model.update()\n",
    "#for (i,j,t) in x:\n",
    "#    print(x[i,j,t])"
   ]
  },
  {
   "cell_type": "code",
   "execution_count": null,
   "metadata": {},
   "outputs": [],
   "source": [
    "#人iが避難施設kに避難した場合に1になる0-1変数 x[i,k] \n",
    "for i in I:\n",
    "    for k in K:\n",
    "        x[i,k] = model.addVar((ub=1, vtype=\"I\", name=\"x(%s,%s)\"%(i,k)))"
   ]
  }
 ],
 "metadata": {
  "kernelspec": {
   "display_name": "Python 3",
   "language": "python",
   "name": "python3"
  },
  "language_info": {
   "codemirror_mode": {
    "name": "ipython",
    "version": 3
   },
   "file_extension": ".py",
   "mimetype": "text/x-python",
   "name": "python",
   "nbconvert_exporter": "python",
   "pygments_lexer": "ipython3",
   "version": "3.6.10"
  }
 },
 "nbformat": 4,
 "nbformat_minor": 4
}
