{
 "cells": [
  {
   "cell_type": "code",
   "execution_count": 65,
   "metadata": {},
   "outputs": [],
   "source": [
    "import math\n",
    "import pandas as pd\n",
    "import numpy as np\n",
    "import matplotlib.pyplot as plt\n",
    "%matplotlib inline\n",
    "import random\n",
    "random.seed(1)\n",
    "np.random.seed(1)"
   ]
  },
  {
   "cell_type": "code",
   "execution_count": 101,
   "metadata": {},
   "outputs": [],
   "source": [
    "N = 50 #人の数\n",
    "people = [i for i in range(N)] #人の集合\n",
    "infec_rate,mort_rate = {},{}\n",
    "x_y= np.random.rand(N, 2) * 100\n",
    "for i in people:\n",
    "    infec_rate[i] = random.randint(0,100)\n",
    "    mort_rate[i] = random.randint(0,100)\n",
    "#print(infec_rate)\n",
    "#print(mort_rate)"
   ]
  },
  {
   "cell_type": "code",
   "execution_count": 82,
   "metadata": {},
   "outputs": [
    {
     "name": "stdout",
     "output_type": "stream",
     "text": [
      "[[43.59949021  2.59262318]\n",
      " [54.96624779 43.53223926]\n",
      " [42.03678021 33.0334821 ]\n",
      " [20.4648634  61.92709664]\n",
      " [29.96546737 26.68272751]]\n",
      "{0: 2, 1: 2, 2: 3, 3: 1, 4: 2}\n"
     ]
    }
   ],
   "source": [
    "N_s = 5\n",
    "shelters = [i for i in range(N_s)] #施設の集合\n",
    "capacity = {}\n",
    "for i in shelters:\n",
    "    capacity[i] = random.randint(1,3)\n",
    "np.random.seed(2)\n",
    "locations= np.random.rand(N_s, 2) * 100\n",
    "print(locations)\n",
    "print(capacity)"
   ]
  },
  {
   "cell_type": "code",
   "execution_count": 93,
   "metadata": {},
   "outputs": [
    {
     "name": "stdout",
     "output_type": "stream",
     "text": [
      "[[33.04787415 42.48886936]\n",
      " [17.45428433 30.64965631]\n",
      " [53.57681726 53.77758534]\n",
      " [ 7.53511863 12.43457269]\n",
      " [ 3.0880322  26.44859062]]\n",
      "{0: 1, 1: 1, 2: 1, 3: 1, 4: 1}\n"
     ]
    }
   ],
   "source": [
    "#ホテル\n",
    "N_h = 5\n",
    "hotels = [i for i in range(N_s)] #施設の集合\n",
    "capacity_h = {}\n",
    "for i in hotels:\n",
    "    capacity[i] = 1\n",
    "np.random.seed(3)\n",
    "locations_h = np.random.rand(N_s, 2) * 60\n",
    "print(locations_h)\n",
    "print(capacity)"
   ]
  },
  {
   "cell_type": "code",
   "execution_count": 94,
   "metadata": {},
   "outputs": [
    {
     "data": {
      "image/png": "[encoded data removed]",
      "text/plain": [
       "<Figure size 288x288 with 1 Axes>"
      ]
     },
     "metadata": {
      "needs_background": "light"
     },
     "output_type": "display_data"
    }
   ],
   "source": [
    "plt.figure(figsize=(4, 4))\n",
    "plt.plot(x_y[:, 0], x_y[:, 1], 'o')\n",
    "plt.plot(locations[:,0],locations[:,1],\"ro\")\n",
    "plt.plot(locations_h[:,0],locations_h[:,1],\"yo\")\n",
    "plt.plot((110,0),(0,110))\n",
    "plt.show()"
   ]
  },
  {
   "cell_type": "code",
   "execution_count": 105,
   "metadata": {},
   "outputs": [],
   "source": [
    "x = x_y[:, 0]\n",
    "y = x_y[:, 1]\n",
    "loc_x = locations[:, 0]\n",
    "loc_y = locations[:, 1]\n",
    "loch_x = locations_h[:, 0]\n",
    "loch_y = locations_h[:, 1]"
   ]
  },
  {
   "cell_type": "code",
   "execution_count": 107,
   "metadata": {},
   "outputs": [
    {
     "data": {
      "text/plain": [
       "array([[ 43.21514243,   6.75820964,  14.07147759,  32.48737856,\n",
       "         26.43898948],\n",
       "       [ 26.53597253,  42.02733653,  25.37807381,  44.22587343,\n",
       "         12.12454541],\n",
       "       [ 93.91900212,  65.99444363,  66.04097979,  30.29245601,\n",
       "         66.51486494],\n",
       "       [ 23.5529959 ,  30.56975848,  28.85928817,  64.51373663,\n",
       "         36.22239616],\n",
       "       [  3.18691997,  40.93051802,  28.1295136 ,  60.74256385,\n",
       "         24.59779977],\n",
       "       [ 74.03207709,  45.06100545,  45.25676092,  11.15372721,\n",
       "         47.25845528],\n",
       "       [ 50.15338212,  11.04537414,  27.44863175,  46.79969951,\n",
       "         41.05336518],\n",
       "       [ 64.67131359,  35.01514336,  35.3281391 ,   7.74875742,\n",
       "         38.61977284],\n",
       "       [ 66.22994117,  40.67870817,  54.63036133,  77.39307284,\n",
       "         67.81127353],\n",
       "       [ 36.72422469,  61.03473488,  44.38212935,  57.74263372,\n",
       "         31.04858678],\n",
       "       [ 99.83202641,  70.20496272,  71.41524026,  36.15613476,\n",
       "         72.60011885],\n",
       "       [ 81.82706803,  40.22385499,  52.12225026,  40.07230071,\n",
       "         61.94809639],\n",
       "       [ 35.45245222,  41.80133846,  25.99342331,  36.05911834,\n",
       "         12.97831119],\n",
       "       [ 90.6536238 ,  48.17486181,  62.71068593,  56.0206009 ,\n",
       "         74.11039307],\n",
       "       [ 10.28816827,  42.55008289,  27.73533695,  57.10389878,\n",
       "         20.62766214],\n",
       "       [ 50.34752354,  34.6047847 ,  44.55030851,  73.67140794,\n",
       "         56.49769036],\n",
       "       [ 33.24616616,  33.69430712,  36.40680559,  70.74609882,\n",
       "         45.46366627],\n",
       "       [ 85.56250146,  43.13088516,  58.01813789,  53.82923258,\n",
       "         69.74420253],\n",
       "       [ 44.24729094,  19.31612396,  30.81305906,  58.36907281,\n",
       "         43.73438874],\n",
       "       [ 31.20817676,  34.47738323,  36.09205098,  70.90406584,\n",
       "         44.56226719],\n",
       "       [ 41.21800365,  23.63679924,  13.89885488,  22.75820183,\n",
       "         15.34107837],\n",
       "       [ 45.93571317,  43.19458778,  48.97880295,  81.7961136 ,\n",
       "         58.85245915],\n",
       "       [ 89.15375719,  49.1366249 ,  65.64983585,  69.89690542,\n",
       "         78.74740567],\n",
       "       [ 63.53819297,  42.73454825,  55.25215858,  80.71791113,\n",
       "         67.94991415],\n",
       "       [ 31.53705112,  39.59319585,  23.3381454 ,  37.87007579,\n",
       "          9.8287033 ],\n",
       "       [101.77664473,  59.84943861,  75.44148142,  71.2798899 ,\n",
       "         87.56526745],\n",
       "       [ 52.68099081,  15.64302733,  31.73064735,  51.27402466,\n",
       "         45.36941938],\n",
       "       [ 82.13790485,  47.7137823 ,  52.07091371,  22.97053788,\n",
       "         56.70007355],\n",
       "       [ 44.11804171,  47.09534592,  51.07588436,  85.05723887,\n",
       "         59.85843868],\n",
       "       [ 83.53381418,  51.81968855,  54.14934513,  21.27904175,\n",
       "         57.11013716],\n",
       "       [ 50.33506266,  32.20990529,  42.82233307,  71.20984509,\n",
       "         55.07297615],\n",
       "       [ 43.41542561,  27.04054502,  17.31990763,  20.27009194,\n",
       "         16.52468271],\n",
       "       [ 12.47078345,  33.9909133 ,  26.3240865 ,  62.15751357,\n",
       "         29.46697563],\n",
       "       [ 64.77814919,  30.39658013,  46.39919876,  63.78898736,\n",
       "         60.03499507],\n",
       "       [ 39.60943797,  30.42648043,  36.82948978,  69.00329593,\n",
       "         47.66738247],\n",
       "       [ 89.77351601,  52.19373678,  68.84228512,  77.19715791,\n",
       "         82.31187764],\n",
       "       [ 92.72669378,  55.32180629,  62.30037171,  35.71792877,\n",
       "         68.3082982 ],\n",
       "       [ 85.65040122,  43.24047986,  58.20751573,  54.30005298,\n",
       "         69.98977811],\n",
       "       [ 39.16265725,  63.11418777,  46.47410967,  58.56682289,\n",
       "         33.04472452],\n",
       "       [ 41.44853823,  23.31172037,  32.33881815,  62.32999379,\n",
       "         44.46970948],\n",
       "       [ 15.33442544,  28.09901004,  19.89908372,  55.83955817,\n",
       "         24.36593721],\n",
       "       [ 72.18586045,  43.35653229,  58.36334036,  78.2033005 ,\n",
       "         71.81558641],\n",
       "       [ 39.59401183,  45.66799901,  48.23580822,  82.89120488,\n",
       "         56.33608075],\n",
       "       [  5.62470648,  37.96921858,  27.43747309,  62.08557022,\n",
       "         27.19820344],\n",
       "       [ 61.41884723,  33.47432891,  47.80306496,  70.13807915,\n",
       "         61.13726824],\n",
       "       [ 37.09085415,  60.01878643,  43.38315654,  55.95777141,\n",
       "         29.93915409],\n",
       "       [ 11.41557066,  35.99201633,  28.09473128,  63.81746464,\n",
       "         30.62151142],\n",
       "       [ 48.17361482,  36.58916229,  25.92646204,  18.41013549,\n",
       "         20.53511055],\n",
       "       [ 56.07999182,  15.68196307,  26.45571714,  29.53315269,\n",
       "         37.33862533],\n",
       "       [ 39.29073681,   9.44847241,  20.46026416,  48.34099447,\n",
       "         33.79090365]])"
      ]
     },
     "execution_count": 107,
     "metadata": {},
     "output_type": "execute_result"
    }
   ],
   "source": [
    "di = np.sqrt((x[:, np.newaxis] - loc_x[np.newaxis, :]) ** 2 +(y[:, np.newaxis] - loc_y[np.newaxis, :]) ** 2)\n",
    "di_h = np.sqrt((x[:, np.newaxis] - loch_x[np.newaxis, :]) ** 2 +(y[:, np.newaxis] - loch_y[np.newaxis, :]) ** 2)\n",
    "di_"
   ]
  },
  {
   "cell_type": "code",
   "execution_count": 11,
   "metadata": {},
   "outputs": [],
   "source": [
    "#Parameter\n",
    "c = {} #移動間のコスト\n",
    "for i in range(len(x_y)):\n",
    "    for j in range(len(x_y)):\n",
    "        c[i,j] = di[i,j]"
   ]
  },
  {
   "cell_type": "code",
   "execution_count": null,
   "metadata": {},
   "outputs": [],
   "source": []
  }
 ],
 "metadata": {
  "kernelspec": {
   "display_name": "Python 3",
   "language": "python",
   "name": "python3"
  },
  "language_info": {
   "codemirror_mode": {
    "name": "ipython",
    "version": 3
   },
   "file_extension": ".py",
   "mimetype": "text/x-python",
   "name": "python",
   "nbconvert_exporter": "python",
   "pygments_lexer": "ipython3",
   "version": "3.6.10"
  }
 },
 "nbformat": 4,
 "nbformat_minor": 4
}
