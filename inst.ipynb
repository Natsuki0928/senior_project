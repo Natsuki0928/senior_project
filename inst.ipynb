{
 "cells": [
  {
   "cell_type": "markdown",
   "metadata": {},
   "source": [
    "# モデルの定式化\n",
    "## 集合;\n",
    "- $I$:避難者の集合 I=(1,2,...I)とし、添字をi,jとする\n",
    "- $K$:施設の集合 K = (1,2,...K)とし、添字をk,lとする\n",
    "\n",
    "## パラメータ\n",
    "- $IR_{i}$：避難者iの感染率(%）\n",
    "- $IM_{i}$:避難者iの死亡率(%)\n",
    "- $CA_{k}$:施設kの収容限界人数（人）\n",
    "- $D_{k,j}$:施設kと施設lの間に定義される感染危険率(%)\n",
    "- $W_{i,j}$:避難者iと避難者j間での感染危険率(%)\n",
    "- $H_{i,k}$:避難者iが施設kに避難した際の死亡率（％）\n",
    "\n",
    "## 変数\n",
    "- $x_{ik}$ $x_{jl}$ : 人iが避難施設kに避難した場合に1になるバイナリー変数\n",
    "\n",
    "## 目的関数\n",
    "-  min $\\sum_{ {i,j \\in I}{k,l \\in K} }^{} W_{ij} D_{kl}  x_{ik}  x_{jl} + \\sum_{ik}^{} H_{ik} x_{ik} $\n",
    "## 制約\n",
    "- すべての人 iに対して，x[i,k]の施設kに対する合計 = 1  \n",
    "\n",
    "- $\\sum_{k}^{} x_{i,k} = 1　 \\ \\ \\ \\   \\forall i \\in I$\n",
    "\n",
    "- 全ての施設kに対してx[i]=kの人に対する合計が施設kの容量以下\n",
    "\n",
    "- $\\sum_{i}^{} x_{i,k}  <= CA_{k}  \\ \\ \\ \\  \\forall k \\in K$"
   ]
  },
  {
   "cell_type": "markdown",
   "metadata": {},
   "source": [
    "## --------------------------------------\n",
    "minimize $\\sum_{ {i,j \\in I}{k,l \\in K} }^{} W_{ij} D_{kl}  x_{ik}  x_{jl} + \\sum_{ik \\in I}^{} H_{ik} x_{ik} $\n",
    "\n",
    "$\\sum_{k}^{} x_{i,k} = 1　 \\ \\ \\ \\   \\forall i \\in I$\n",
    "\n",
    "\n",
    "$\\sum_{i}^{} x_{i,k}  <= CA_{k}  \\ \\ \\ \\  \\forall k \\in K$"
   ]
  },
  {
   "cell_type": "markdown",
   "metadata": {},
   "source": [
    "## -----------------------------------------------"
   ]
  },
  {
   "cell_type": "markdown",
   "metadata": {},
   "source": [
    "\\subsection{定式化}\n",
    "\n",
    "\\begin{align}\n",
    "\\text{min.} \\notag \\\\\n",
    "&\\sum_{i \\in I}\\sum_{k \\in K}\\sum_{t \\in T} f_{ik} y_{ikt} \\ + \\sum_{i \\in I}\\sum_{t \\in T} T C^C_{i} X_{it} \\ + \\sum_{i \\in I}\\sum_{j \\in J}\\sum_{t \\in T} T C^D_{ij} x_{ijt} \\notag \\\\ \n",
    "&+\\sum_{i \\in I}\\sum_{t \\in T} h^C s^C_{it} \\ + \\sum_{j \\in J}\\sum_{t \\in T} h^D s^D_{jt} \\ + \\sum_{j \\in J}\\sum_{t \\in T} b\\xi_{jt} \\notag \\\\\n",
    "&+\\sum_{i \\in I}\\sum_{k \\in K}\\sum_{t \\in T} F^O z_{ikt} \\ + \\sum_{i \\in I}\\sum_{k \\in K}\\sum_{t \\in T} F^C w_{ikt} \\ + \\sum_{i \\in I}\\sum_{t \\in T} a\\theta_{it} \n",
    "\\end{align} "
   ]
  }
 ],
 "metadata": {
  "kernelspec": {
   "display_name": "Python 3",
   "language": "python",
   "name": "python3"
  },
  "language_info": {
   "codemirror_mode": {
    "name": "ipython",
    "version": 3
   },
   "file_extension": ".py",
   "mimetype": "text/x-python",
   "name": "python",
   "nbconvert_exporter": "python",
   "pygments_lexer": "ipython3",
   "version": "3.6.10"
  }
 },
 "nbformat": 4,
 "nbformat_minor": 4
}
